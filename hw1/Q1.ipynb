{
 "cells": [
  {
   "cell_type": "code",
   "execution_count": 6,
   "metadata": {},
   "outputs": [],
   "source": [
    "import pandas as pd\n",
    "import numpy as np"
   ]
  },
  {
   "cell_type": "code",
   "execution_count": 7,
   "metadata": {},
   "outputs": [],
   "source": [
    "train = pd.read_csv(\"data/1/train_1_5.csv\", header = None, dtype=np.float64)\n",
    "train_x, train_y = train.loc[:, :1], train.loc[:, 2]\n",
    "train_x['Bias'] = pd.Series(np.ones(len(train)))\n",
    "test = pd.read_csv(\"data/1/test_1_5.csv\", header=None, dtype=np.float64)\n",
    "test_x, test_y = test.loc[:, :1], test.loc[:, 2]\n",
    "test_x['Bias'] = pd.Series(np.ones(len(test)))"
   ]
  },
  {
   "cell_type": "code",
   "execution_count": 8,
   "metadata": {},
   "outputs": [],
   "source": [
    "def train(x, y, w, iteration):\n",
    "    train_loss = 0\n",
    "    for i, (x_i, y_i) in enumerate(zip(x, y)):\n",
    "        y_pred = np.dot(x_i, w)\n",
    "        if np.sign(y_pred) != y_i:\n",
    "            w += y_i * x_i\n",
    "            train_loss += 1\n",
    "    print(f'iteration {iteration}: train loss: {train_loss/len(x)}')\n",
    "    return w\n",
    "\n",
    "\n",
    "def test(x, y, w, iteration):\n",
    "    test_loss = 0\n",
    "    acc = 0\n",
    "    pred_list = []\n",
    "    for i, (x_i, y_i) in enumerate(zip(x, y)):\n",
    "        y_pred = np.dot(x_i, w)\n",
    "        pred_list.append(y_pred)\n",
    "        if np.sign(y_pred) != y_i:\n",
    "            test_loss += 1\n",
    "        else:\n",
    "            acc += 1\n",
    "    print(f'iteration {iteration}: test loss: {test_loss/len(x)}, acc {acc/len(x)}')\n",
    "    print()\n",
    "    return pred_list"
   ]
  },
  {
   "cell_type": "markdown",
   "metadata": {},
   "source": [
    "## run 5 times"
   ]
  },
  {
   "cell_type": "code",
   "execution_count": 9,
   "metadata": {},
   "outputs": [
    {
     "name": "stdout",
     "output_type": "stream",
     "text": [
      "iteration 0: train loss: 0.07324516785350967\n",
      "iteration 0: test loss: 0.03293413173652695, acc 0.9670658682634731\n",
      "\n"
     ]
    }
   ],
   "source": [
    "w = np.zeros(3)\n",
    "for iteration in range(1):\n",
    "    w = train(train_x.values, train_y.values, w, iteration)\n",
    "    pred_list = test(test_x.values, test_y.values, w, iteration)"
   ]
  },
  {
   "cell_type": "markdown",
   "metadata": {},
   "source": [
    "## run 10 times"
   ]
  },
  {
   "cell_type": "code",
   "execution_count": 10,
   "metadata": {},
   "outputs": [
    {
     "name": "stdout",
     "output_type": "stream",
     "text": [
      "iteration 0: train loss: 0.07324516785350967\n",
      "iteration 0: test loss: 0.03293413173652695, acc 0.9670658682634731\n",
      "\n",
      "iteration 1: train loss: 0.04679552390640895\n",
      "iteration 1: test loss: 0.03493013972055888, acc 0.9650698602794411\n",
      "\n",
      "iteration 2: train loss: 0.052899287894201424\n",
      "iteration 2: test loss: 0.0499001996007984, acc 0.9500998003992016\n",
      "\n",
      "iteration 3: train loss: 0.04984740590030519\n",
      "iteration 3: test loss: 0.03093812375249501, acc 0.969061876247505\n",
      "\n",
      "iteration 4: train loss: 0.04069175991861648\n",
      "iteration 4: test loss: 0.03293413173652695, acc 0.9670658682634731\n",
      "\n",
      "iteration 5: train loss: 0.044760935910478125\n",
      "iteration 5: test loss: 0.03293413173652695, acc 0.9670658682634731\n",
      "\n",
      "iteration 6: train loss: 0.04069175991861648\n",
      "iteration 6: test loss: 0.03293413173652695, acc 0.9670658682634731\n",
      "\n",
      "iteration 7: train loss: 0.04069175991861648\n",
      "iteration 7: test loss: 0.03293413173652695, acc 0.9670658682634731\n",
      "\n",
      "iteration 8: train loss: 0.04069175991861648\n",
      "iteration 8: test loss: 0.031936127744510975, acc 0.9680638722554891\n",
      "\n",
      "iteration 9: train loss: 0.04069175991861648\n",
      "iteration 9: test loss: 0.031936127744510975, acc 0.9680638722554891\n",
      "\n"
     ]
    }
   ],
   "source": [
    "w = np.zeros(3)\n",
    "for iteration in range(10):\n",
    "    w = train(train_x.values, train_y.values, w, iteration)\n",
    "    test(test_x.values, test_y.values, w, iteration)"
   ]
  }
 ],
 "metadata": {
  "kernelspec": {
   "display_name": "Python 3",
   "language": "python",
   "name": "python3"
  },
  "language_info": {
   "codemirror_mode": {
    "name": "ipython",
    "version": 3
   },
   "file_extension": ".py",
   "mimetype": "text/x-python",
   "name": "python",
   "nbconvert_exporter": "python",
   "pygments_lexer": "ipython3",
   "version": "3.7.3"
  }
 },
 "nbformat": 4,
 "nbformat_minor": 2
}
