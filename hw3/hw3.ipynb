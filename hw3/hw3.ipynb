{
 "cells": [
  {
   "cell_type": "markdown",
   "metadata": {},
   "source": [
    "### Name: Hong Pengfei id: 1002949"
   ]
  },
  {
   "cell_type": "markdown",
   "metadata": {},
   "source": [
    "# Q1"
   ]
  },
  {
   "cell_type": "code",
   "execution_count": 132,
   "metadata": {},
   "outputs": [],
   "source": [
    "libsvm_train = './libsvm-3.24/svm-train'\n",
    "libsvm_pred = './libsvm-3.24/svm-predict'\n",
    "data_train = 'HW3_data/1/promoters/training.txt'\n",
    "data_test = 'HW3_data/1/promoters/test.txt'\n",
    "model = 'output/training.txt.model'\n",
    "output_file = 'output/out'"
   ]
  },
  {
   "cell_type": "code",
   "execution_count": 134,
   "metadata": {},
   "outputs": [
    {
     "name": "stdout",
     "output_type": "stream",
     "text": [
      ".....*...*\n",
      "optimization finished, #iter = 637\n",
      "nu = 0.024407\n",
      "obj = -0.903163, rho = 1.532559\n",
      "nSV = 39, nBSV = 0\n",
      "Total nSV = 39\n",
      "Accuracy = 84.375% (27/32) (classification)\n"
     ]
    }
   ],
   "source": [
    "! {libsvm_train} -t 0 {data_train} {model}\n",
    "! {libsvm_pred} {data_test} {model} {output_file}"
   ]
  },
  {
   "cell_type": "markdown",
   "metadata": {},
   "source": [
    "### kernel type 0 -- linear: u'*v have acc of 84"
   ]
  },
  {
   "cell_type": "code",
   "execution_count": 135,
   "metadata": {},
   "outputs": [
    {
     "name": "stdout",
     "output_type": "stream",
     "text": [
      ".*.*\n",
      "optimization finished, #iter = 186\n",
      "nu = 0.026157\n",
      "obj = -0.967852, rho = 0.276119\n",
      "nSV = 62, nBSV = 0\n",
      "Total nSV = 62\n",
      "Accuracy = 81.25% (26/32) (classification)\n"
     ]
    }
   ],
   "source": [
    "! {libsvm_train} -t 1 {data_train} {model}\n",
    "! {libsvm_pred} {data_test} {model} {output_file}"
   ]
  },
  {
   "cell_type": "markdown",
   "metadata": {},
   "source": [
    "### kernel type 1 -- polynomial: (gamma*u'*v + coef0)^degree has acc of 81"
   ]
  },
  {
   "cell_type": "code",
   "execution_count": 136,
   "metadata": {},
   "outputs": [
    {
     "name": "stdout",
     "output_type": "stream",
     "text": [
      ".*\n",
      "optimization finished, #iter = 96\n",
      "nu = 0.824736\n",
      "obj = -32.541976, rho = -0.133095\n",
      "nSV = 74, nBSV = 25\n",
      "Total nSV = 74\n",
      "Accuracy = 90.625% (29/32) (classification)\n"
     ]
    }
   ],
   "source": [
    "! {libsvm_train} -t 2 {data_train} {model}\n",
    "! {libsvm_pred} {data_test} {model} {output_file}"
   ]
  },
  {
   "cell_type": "markdown",
   "metadata": {},
   "source": [
    "### kernel type 2 -- radial basis function: exp(-gamma*|u-v|^2) has acc of 91"
   ]
  },
  {
   "cell_type": "code",
   "execution_count": 137,
   "metadata": {},
   "outputs": [
    {
     "name": "stdout",
     "output_type": "stream",
     "text": [
      "*\n",
      "optimization finished, #iter = 39\n",
      "nu = 0.945946\n",
      "obj = -67.705765, rho = -0.697125\n",
      "nSV = 71, nBSV = 69\n",
      "Total nSV = 71\n",
      "Accuracy = 43.75% (14/32) (classification)\n"
     ]
    }
   ],
   "source": [
    "! {libsvm_train} -t 3 {data_train} {model}\n",
    "! {libsvm_pred} {data_test} {model} {output_file}"
   ]
  },
  {
   "cell_type": "markdown",
   "metadata": {},
   "source": [
    "### kernel type of 3 -- sigmoid: tanh(gamma*u'*v + coef0) has acc of 44"
   ]
  },
  {
   "cell_type": "markdown",
   "metadata": {},
   "source": [
    "### Conclusion: \n",
    "### the second kind of kernel has better accuracy on the test set of 90.625%"
   ]
  },
  {
   "cell_type": "markdown",
   "metadata": {},
   "source": [
    "# Q2"
   ]
  },
  {
   "cell_type": "markdown",
   "metadata": {},
   "source": [
    "### 1"
   ]
  },
  {
   "cell_type": "markdown",
   "metadata": {},
   "source": [
    "The dual problem is: \\\n",
    "\\begin{equation}\n",
    "\\min_{\\alpha} \\frac{1}{2} \\sum_{i=1}^{N} \\sum_{j=1}^{N} \\alpha_i \\alpha_j y_i y_j (x_i \\cdot x_j) - \\sum_{i=1}^N \\alpha^i \\\\\n",
    " = \\frac{1}{2} (2 \\alpha^2_1 + \\alpha_2^2 - 2 \\alpha_1 \\alpha_2) - \\alpha_1 - \\alpha_2 \\\\\n",
    " s.t. \\alpha_i \\geq 0  \\qquad i=1, 2\n",
    "\\end{equation}\n",
    "Therefore, we need to\n",
    "\\begin{equation}\n",
    "min_\\alpha \\qquad \\alpha_1^2 + \\frac{1}{2}\\alpha_2^2 - \\alpha_1\\alpha_2 - \\alpha_1 - \\alpha_2\n",
    "\\end{equation}\n",
    "by taking partial derivative we get $\\alpha_1 = 2, \\alpha_2 = 3$ which satisfy the condition $\\alpha_{1,2} > 0$\\\n",
    "Therefore, $ w^* = \\sum \\alpha_i y_i x_i = (-1, 2)$ and geometric margin is $\\gamma = \\frac{1}{||w||} = \\frac{1}{\\sqrt{5}}$"
   ]
  },
  {
   "cell_type": "markdown",
   "metadata": {},
   "source": [
    "### 2"
   ]
  },
  {
   "cell_type": "markdown",
   "metadata": {},
   "source": [
    "The dual problem is: \\\n",
    "\\begin{equation}\n",
    "\\min_{\\alpha} \\frac{1}{2} \\sum_{i=1}^{N} \\sum_{j=1}^{N} \\alpha_i \\alpha_j y_i y_j (x_i \\cdot x_j) - \\sum_{i=1}^N \\alpha^i \\\\\n",
    " = \\frac{1}{2} (2 \\alpha^2_1 + \\alpha_2^2 - 2 \\alpha_1 \\alpha_2) - \\alpha_1 - \\alpha_2 \\\\\n",
    " s.t. \\qquad \\alpha_i \\geq 0  \\qquad i=1, 2 \\\\\n",
    " \\qquad \\alpha_1 - \\alpha_2 = 0\n",
    "\\end{equation}\n",
    "Therefore, we need to\n",
    "\\begin{equation}\n",
    "min_\\alpha \\qquad \\frac{1}{2}\\alpha_1^2 - 2 \\alpha_1 \n",
    "\\end{equation}\n",
    "by taking partial derivative we get $\\alpha_1 = \\alpha_2 = 2$ which satisfy the condition $\\alpha_{1,2} > 0$\n",
    "\n",
    "Therefore, $ w^* = \\sum \\alpha_i y_i x_i = (0, 2) $, \n",
    "\n",
    "for $\\alpha_j > 0$ $b^* = y_i - \\sum_{i=1}^{N} \\alpha^* y_i (x_i*x_j) = -1$ \n",
    "\n",
    "geometric margin is $\\gamma = \\frac{1}{||w||} = \\frac{1}{2}$"
   ]
  },
  {
   "cell_type": "markdown",
   "metadata": {},
   "source": [
    "# Q3"
   ]
  },
  {
   "cell_type": "markdown",
   "metadata": {},
   "source": [
    "### 1. $K(x, z) = K_1(x, z) K_2(x, z)$  is a kernel function\n",
    "\n",
    "\n",
    "\n",
    "\n",
    "\n",
    "### Proof  (using kernel definition):\n",
    "\\begin{align}\n",
    "k_1(x,y) = a(x)^T a(y), \\qquad a( z ) = [a_1(z), a_2(z), \\ldots a_M(z)] \\\\\n",
    "k_2(x,y) = b(x)^T b(y), \\qquad b( z ) = [b_1(z), b_2(z), \\ldots b_N(z)] \n",
    "\\end{align}\n",
    "\n",
    "So $a$ is a function that produces an $M$-dim vector, and $b$ produces an $N$-dim vector.\n",
    "\n",
    "Next, we just write the product in terms of $a$ and $b$, and perform some regrouping.\n",
    "\n",
    "\\begin{align}\n",
    "k_{p}(x,y) &= k_1(x,y) k_2(x,y)\n",
    "\\\\&= \\Big( \\sum_{m=1}^M a_m(x) a_m(y) \\Big) \\Big(  \\sum_{n=1}^N b_n(x) b_n(y) \\Big)\n",
    "\\\\&= \\sum_{m=1}^M \\sum_{n=1}^N [ a_m(x)  b_n(x) ] [a_m(y) b_n(y)]\n",
    "\\\\&= \\sum_{m=1}^M \\sum_{n=1}^N  c_{mn}( x )  c_{mn}( y )\n",
    "\\\\&= c(x)^T c(y)\n",
    "\\end{align}\n",
    "\n",
    "where $c(z)$ is an $M \\cdot N$ -dimensional vector, s.t. $c_{mn}(z) = a_m(z) b_n(z)$.\n"
   ]
  },
  {
   "cell_type": "markdown",
   "metadata": {},
   "source": [
    "### 2. $ K(x, z) = aK_1(x, z) + bK_2(x, z)  \\qquad a, b > 0 \\qquad a, b \\in R$, $K(x,z)$ is Kernel function\n",
    "### Proof (using Mercer's Theorem):\n",
    "According to Mercer's Thereom, to prove $K(x, z)$ is kernel method is equal to prove its `Gram matrix` A is symmetric and positive semidefinitive.\n",
    "\n",
    "If $K_1(x,z), K_2(x,z)$ are both Kernel func, their `Gram matrix` are symmetric and positive semidefinitive.\n",
    "\n",
    "\n",
    "1. To prove $ aK_1(x, z) + bK_2(x, z) $ is symmetric: \\\n",
    "for any matrix M, for any constant $k \\in $, $M * k$ is also a symmetric matrix. $\\because$ $A_{ij} = A_{ji}$ in $M$, $\\therefore$,  $kA_{ij} = kA_{ji}$. Therefore, $aK_1(x,z), bK_2(x,z)$ are all symmetric.\\\n",
    "$\\because$ $ (A+B)^T = A^T + B^T $, and if $A^T = A, B^T = B$, $\\therefore (A+B)^T = A+B$\\\n",
    "$\\because$ $aK_1(x,z), bK_2(x,z)$ are all symmetric, $\\therefore K(x, z)$ is symmetric.\n",
    "\n",
    "\n",
    "\n",
    "2. To prove $ aK_1(x, z) + bK_2(x, z) $ is positive semidefinite:\\\n",
    "Now $K_1(x, z)$ and $K_2(x, z)$ are positive definite matrices, means for all $h \\in R_n$ we must have $hK_1h \\gt 0$ and $hK_2h \\geq 0$. $\\because a, b \\gt 0 $ $\\therefore$ $aK_1(x, z)$ and $bK_2(x,z)$ are all positive semidefinite matrices.\\\n",
    "\n",
    "$\\because$ $0 \\lt haK_1(x, z)h^T + hbK_2(x, z)h^T = h(K_1(x,z)+K_2(x,z))h^T$, $\\therefore$ $ aK_1(x, z) + bK_2(x, z) $ is positive semidefinite.\n",
    "\n",
    "Therefore, their Gram matrix is both symmetric and P.S.D, $K(x,z)$ is a kernel matrix"
   ]
  },
  {
   "cell_type": "markdown",
   "metadata": {},
   "source": [
    "### 3. $ K(x, z) = aK_1(x, z) - bK_2(x, z)  \\qquad a, b > 0 \\qquad a, b \\in R$, $K(x,z)$ is not a kernel function\n",
    "### Counter example:\n",
    "\n",
    "let $a = 1, b = 2, K_1 = K2$, $\\therefore K(x,z) = -K_2(x,z)$.\n",
    "\n",
    "By Mercer's Theorem, -K_2(x,z) cannot be kernel function because it has a semi-negative kernel matrix."
   ]
  },
  {
   "cell_type": "markdown",
   "metadata": {},
   "source": [
    "### 4. $K(x, z) = f(x)f(z),$ where f : Rn -> R be any real valued function of x. This is a kernel.\n",
    "The proof is trivial: \n",
    "\n",
    "$\\because$ by kernel defition $K(x,z) = \\phi(x)\\phi(z)$ where $\\phi(y): Rd \\rightarrow Rp$, in case of p=1, $K(x,z) = f(x)f(z)$. "
   ]
  },
  {
   "cell_type": "markdown",
   "metadata": {},
   "source": [
    "# Q4"
   ]
  },
  {
   "cell_type": "code",
   "execution_count": 1,
   "metadata": {},
   "outputs": [],
   "source": [
    "%matplotlib inline\n",
    "import pandas as pd\n",
    "import numpy as np\n",
    "from matplotlib import pyplot as plt\n",
    "from tqdm import tqdm_notebook, tqdm\n",
    "import sys"
   ]
  },
  {
   "cell_type": "markdown",
   "metadata": {},
   "source": [
    "### 1."
   ]
  },
  {
   "cell_type": "code",
   "execution_count": 3,
   "metadata": {},
   "outputs": [
    {
     "name": "stdout",
     "output_type": "stream",
     "text": [
      "CPU times: user 239 µs, sys: 0 ns, total: 239 µs\n",
      "Wall time: 241 µs\n",
      "3.6631162669043158395e-405\n",
      "\n",
      "CPU times: user 251 µs, sys: 7 µs, total: 258 µs\n",
      "Wall time: 269 µs\n",
      "1.5299738518096969609e-431\n"
     ]
    }
   ],
   "source": [
    "res = 1\n",
    "temp = np.random.rand(1000).astype(np.float128)\n",
    "%time for i in temp: res *= i\n",
    "print(res)\n",
    "print()\n",
    "res = 0\n",
    "temp = np.log(np.random.rand(1000))\n",
    "%time for i in temp: res += i\n",
    "print(np.exp(res.astype(np.float128)))"
   ]
  },
  {
   "cell_type": "markdown",
   "metadata": {},
   "source": [
    "### Using log has certain advantages\n",
    "1. loglikelihood can express a series of multiplication in terms of addition, which is more computationally cheaper. Therefore it only takes more time to calculate multiplication as showed above. \n",
    "2. multiplication of a sequence of numbers that is smaller than 1 will stackoverflow and become zero, therefore needs higher precision like float128, however, it only needs float32 to calculate the equation under the log to a certain amount of precision."
   ]
  },
  {
   "cell_type": "markdown",
   "metadata": {},
   "source": [
    "### 2."
   ]
  },
  {
   "cell_type": "code",
   "execution_count": 4,
   "metadata": {},
   "outputs": [],
   "source": [
    "diabetes = pd.read_csv('HW3_data/4/diabetes_train.csv', header=None)"
   ]
  },
  {
   "cell_type": "code",
   "execution_count": 5,
   "metadata": {},
   "outputs": [],
   "source": [
    "x, y = diabetes.drop(columns=0), diabetes.loc[:, 0][:,np.newaxis]\n",
    "x['bias'] = np.ones((len(x), 1))"
   ]
  },
  {
   "cell_type": "markdown",
   "metadata": {},
   "source": [
    "## formulas\n",
    "\n",
    "loss:\\\n",
    "\\begin{equation}\n",
    "E = \\sum_{i=1}^{n}\\log{(  1 + \\exp \\{-y^{i} (\\theta \\cdot x^{i} + \\theta_0) \\}    )} \\\n",
    "\\end{equation}\n",
    "\n",
    "derivative of loss: \\\n",
    "\\begin{equation}\n",
    "\\frac{\\partial{E^{(t)}}}{\\partial{\\theta}} =  \\frac{-y^{(t)} x^{(t)}}{1 + exp(y^{(t)} (\\theta x^{(t)}) )}  \\\n",
    "\\end{equation}\n",
    "\n",
    "loglikelihood = -E"
   ]
  },
  {
   "cell_type": "code",
   "execution_count": 8,
   "metadata": {},
   "outputs": [],
   "source": [
    "def backward(theta, x, y):\n",
    "    # x (dim,)\n",
    "    # y scalar\n",
    "    gradient = - (y * x) / (1 + np.exp(y * (x.dot(theta) ) ) ) \n",
    "    gradient = gradient[:,np.newaxis]\n",
    "    return gradient\n",
    "\n",
    "def loss_func(x, y, theta, iteration):\n",
    "    # x (n, dim)\n",
    "    # y (n, 1)\n",
    "    loss = np.sum(np.log( 1 + np.exp( np.multiply(-y, (x.values.dot(theta))))) )\n",
    "    acc = np.sum(np.sign(x.values.dot(theta)) == y)/ len(y)\n",
    "    print(f'iteration {iteration} \\t loss {loss}, \\t accuracy is {acc}')\n",
    "    return loss, acc"
   ]
  },
  {
   "cell_type": "code",
   "execution_count": 9,
   "metadata": {
    "scrolled": false
   },
   "outputs": [
    {
     "data": {
      "application/vnd.jupyter.widget-view+json": {
       "model_id": "8e15ffd31ca84fa696c6b0a59be8a659",
       "version_major": 2,
       "version_minor": 0
      },
      "text/plain": [
       "HBox(children=(IntProgress(value=0, max=10000), HTML(value='')))"
      ]
     },
     "metadata": {},
     "output_type": "display_data"
    },
    {
     "name": "stdout",
     "output_type": "stream",
     "text": [
      "iteration 0 \t loss 5406.603006774432, \t accuracy is 0.25966666666666666\n",
      "iteration 100 \t loss 1791.7339357212736, \t accuracy is 0.823\n",
      "iteration 200 \t loss 1476.006975777842, \t accuracy is 0.8246666666666667\n",
      "iteration 300 \t loss 1215.258196991625, \t accuracy is 0.846\n",
      "iteration 400 \t loss 1053.0443590200944, \t accuracy is 0.86\n",
      "iteration 500 \t loss 892.6997987268508, \t accuracy is 0.8713333333333333\n",
      "iteration 600 \t loss 757.8043440381915, \t accuracy is 0.9003333333333333\n",
      "iteration 700 \t loss 712.5459999896352, \t accuracy is 0.8833333333333333\n",
      "iteration 800 \t loss 593.5635930670285, \t accuracy is 0.9316666666666666\n",
      "iteration 900 \t loss 548.4425884466723, \t accuracy is 0.927\n",
      "iteration 1000 \t loss 542.0264033279119, \t accuracy is 0.9176666666666666\n",
      "iteration 1100 \t loss 500.1168449891473, \t accuracy is 0.9363333333333334\n",
      "iteration 1200 \t loss 470.4282055180986, \t accuracy is 0.9423333333333334\n",
      "iteration 1300 \t loss 458.5760864950479, \t accuracy is 0.9703333333333334\n",
      "iteration 1400 \t loss 433.91127736631137, \t accuracy is 0.9596666666666667\n",
      "iteration 1500 \t loss 451.1794107023287, \t accuracy is 0.9263333333333333\n",
      "iteration 1600 \t loss 439.68942628322026, \t accuracy is 0.9343333333333333\n",
      "iteration 1700 \t loss 411.28453524221, \t accuracy is 0.9463333333333334\n",
      "iteration 1800 \t loss 392.389051354819, \t accuracy is 0.9606666666666667\n",
      "iteration 1900 \t loss 384.19306350250366, \t accuracy is 0.9553333333333334\n",
      "iteration 2000 \t loss 435.80321619036727, \t accuracy is 0.922\n",
      "iteration 2100 \t loss 364.66223716375, \t accuracy is 0.9746666666666667\n",
      "iteration 2200 \t loss 364.45281368759925, \t accuracy is 0.981\n",
      "iteration 2300 \t loss 342.30477884922726, \t accuracy is 0.971\n",
      "iteration 2400 \t loss 338.9956850511959, \t accuracy is 0.972\n",
      "iteration 2500 \t loss 329.53850370079266, \t accuracy is 0.974\n",
      "iteration 2600 \t loss 350.81173903635926, \t accuracy is 0.9746666666666667\n",
      "iteration 2700 \t loss 322.3183859747278, \t accuracy is 0.9716666666666667\n",
      "iteration 2800 \t loss 315.66269290183226, \t accuracy is 0.978\n",
      "iteration 2900 \t loss 329.7315813636528, \t accuracy is 0.9793333333333333\n",
      "iteration 3000 \t loss 329.97706894416183, \t accuracy is 0.954\n",
      "iteration 3100 \t loss 332.0886242201519, \t accuracy is 0.9526666666666667\n",
      "iteration 3200 \t loss 318.762938700308, \t accuracy is 0.9816666666666667\n",
      "iteration 3300 \t loss 299.5917805032552, \t accuracy is 0.9703333333333334\n",
      "iteration 3400 \t loss 289.37465871819643, \t accuracy is 0.9796666666666667\n",
      "iteration 3500 \t loss 285.20784920882835, \t accuracy is 0.9813333333333333\n",
      "iteration 3600 \t loss 282.3164721819468, \t accuracy is 0.9783333333333334\n",
      "iteration 3700 \t loss 289.4798469215402, \t accuracy is 0.9863333333333333\n",
      "iteration 3800 \t loss 275.8714894220474, \t accuracy is 0.9883333333333333\n",
      "iteration 3900 \t loss 283.9705031797503, \t accuracy is 0.987\n",
      "iteration 4000 \t loss 274.99082348804455, \t accuracy is 0.9873333333333333\n",
      "iteration 4100 \t loss 263.8408246157814, \t accuracy is 0.9876666666666667\n",
      "iteration 4200 \t loss 267.2387718906838, \t accuracy is 0.9876666666666667\n",
      "iteration 4300 \t loss 255.8033126469411, \t accuracy is 0.985\n",
      "iteration 4400 \t loss 253.69264009694461, \t accuracy is 0.9833333333333333\n",
      "iteration 4500 \t loss 255.56465784383988, \t accuracy is 0.979\n",
      "iteration 4600 \t loss 249.70356699019464, \t accuracy is 0.987\n",
      "iteration 4700 \t loss 253.40133346452703, \t accuracy is 0.9766666666666667\n",
      "iteration 4800 \t loss 249.7939828933669, \t accuracy is 0.9896666666666667\n",
      "iteration 4900 \t loss 268.7791972726533, \t accuracy is 0.9873333333333333\n",
      "iteration 5000 \t loss 246.25187139298095, \t accuracy is 0.99\n",
      "iteration 5100 \t loss 253.40906197000095, \t accuracy is 0.974\n",
      "iteration 5200 \t loss 246.88827108287364, \t accuracy is 0.989\n",
      "iteration 5300 \t loss 239.327373953414, \t accuracy is 0.989\n",
      "iteration 5400 \t loss 237.4907427010843, \t accuracy is 0.9833333333333333\n",
      "iteration 5500 \t loss 242.4255881961315, \t accuracy is 0.9756666666666667\n",
      "iteration 5600 \t loss 258.3404899183812, \t accuracy is 0.9656666666666667\n",
      "iteration 5700 \t loss 255.94243214364496, \t accuracy is 0.9846666666666667\n",
      "iteration 5800 \t loss 227.61585397636435, \t accuracy is 0.99\n",
      "iteration 5900 \t loss 246.95884229402492, \t accuracy is 0.9676666666666667\n",
      "iteration 6000 \t loss 223.69102964678552, \t accuracy is 0.99\n",
      "iteration 6100 \t loss 231.50150824583199, \t accuracy is 0.9786666666666667\n",
      "iteration 6200 \t loss 222.45062374911606, \t accuracy is 0.986\n",
      "iteration 6300 \t loss 223.15517515347898, \t accuracy is 0.9823333333333333\n",
      "iteration 6400 \t loss 219.58620885109264, \t accuracy is 0.986\n",
      "iteration 6500 \t loss 225.64418169893804, \t accuracy is 0.9793333333333333\n",
      "iteration 6600 \t loss 225.44986957800285, \t accuracy is 0.978\n",
      "iteration 6700 \t loss 218.51850735241473, \t accuracy is 0.989\n",
      "iteration 6800 \t loss 214.80445818592398, \t accuracy is 0.991\n",
      "iteration 6900 \t loss 215.19109538101844, \t accuracy is 0.9896666666666667\n",
      "iteration 7000 \t loss 235.5133703418595, \t accuracy is 0.9856666666666667\n",
      "iteration 7100 \t loss 212.81777781110912, \t accuracy is 0.991\n",
      "iteration 7200 \t loss 212.70771067425204, \t accuracy is 0.9903333333333333\n",
      "iteration 7300 \t loss 208.6347080421012, \t accuracy is 0.985\n",
      "iteration 7400 \t loss 206.97059637532783, \t accuracy is 0.986\n",
      "iteration 7500 \t loss 208.6374254417108, \t accuracy is 0.993\n",
      "iteration 7600 \t loss 203.92594841377127, \t accuracy is 0.989\n",
      "iteration 7700 \t loss 202.67916985195575, \t accuracy is 0.9913333333333333\n",
      "iteration 7800 \t loss 201.7966192476224, \t accuracy is 0.9916666666666667\n",
      "iteration 7900 \t loss 201.60929399618902, \t accuracy is 0.988\n",
      "iteration 8000 \t loss 211.9315085308878, \t accuracy is 0.9773333333333334\n",
      "iteration 8100 \t loss 200.42975213572552, \t accuracy is 0.991\n",
      "iteration 8200 \t loss 198.8762016895567, \t accuracy is 0.9873333333333333\n",
      "iteration 8300 \t loss 196.8169804926847, \t accuracy is 0.9906666666666667\n",
      "iteration 8400 \t loss 195.57314303267935, \t accuracy is 0.9896666666666667\n",
      "iteration 8500 \t loss 196.2160959328511, \t accuracy is 0.9923333333333333\n",
      "iteration 8600 \t loss 193.86974450105384, \t accuracy is 0.9903333333333333\n",
      "iteration 8700 \t loss 194.2305497515405, \t accuracy is 0.9863333333333333\n",
      "iteration 8800 \t loss 191.74925614061237, \t accuracy is 0.988\n",
      "iteration 8900 \t loss 190.57053851615342, \t accuracy is 0.9883333333333333\n",
      "iteration 9000 \t loss 203.35695335545745, \t accuracy is 0.991\n",
      "iteration 9100 \t loss 193.4863447571851, \t accuracy is 0.9923333333333333\n",
      "iteration 9200 \t loss 192.19363766117874, \t accuracy is 0.992\n",
      "iteration 9300 \t loss 202.4506151478034, \t accuracy is 0.9886666666666667\n",
      "iteration 9400 \t loss 200.06272755992333, \t accuracy is 0.988\n",
      "iteration 9500 \t loss 189.61806946936298, \t accuracy is 0.991\n",
      "iteration 9600 \t loss 191.48077145567885, \t accuracy is 0.9833333333333333\n",
      "iteration 9700 \t loss 185.84917500286394, \t accuracy is 0.9903333333333333\n",
      "iteration 9800 \t loss 183.4932084060262, \t accuracy is 0.992\n",
      "iteration 9900 \t loss 188.50478658134537, \t accuracy is 0.9923333333333333\n",
      "\n"
     ]
    }
   ],
   "source": [
    "losses = []\n",
    "accs = []\n",
    "lr = 0.1\n",
    "theta = np.random.normal(0, 1, (x.shape[1], 1) )\n",
    "iterations = 10000\n",
    "idxs = np.random.choice(len(x), size=iterations)\n",
    "weights = {}\n",
    "\n",
    "for iteration, i in enumerate(tqdm_notebook(idxs, file=sys.stdout)):\n",
    "    xi, yi = x.loc[i,:], y[i]\n",
    "    gradient = backward(theta, xi, yi)\n",
    "    theta -= lr * gradient\n",
    "    if iteration % 100 == 0:\n",
    "        loss, acc = loss_func(x, y, theta, iteration)\n",
    "        weights[iteration] = theta\n",
    "        losses.append(loss)\n",
    "        accs.append(acc)"
   ]
  },
  {
   "cell_type": "code",
   "execution_count": 10,
   "metadata": {},
   "outputs": [
    {
     "data": {
      "text/plain": [
       "Text(0.5, 0, 'every 100 iterations')"
      ]
     },
     "execution_count": 10,
     "metadata": {},
     "output_type": "execute_result"
    },
    {
     "data": {
      "image/png": "[encoded data removed]",
      "text/plain": [
       "<Figure size 432x288 with 1 Axes>"
      ]
     },
     "metadata": {
      "needs_background": "light"
     },
     "output_type": "display_data"
    }
   ],
   "source": [
    "plt.plot(range(1, 101), -1*np.array(losses))\n",
    "plt.ylabel('loglikelihood ')\n",
    "plt.xlabel('every 100 iterations')"
   ]
  },
  {
   "cell_type": "code",
   "execution_count": 11,
   "metadata": {},
   "outputs": [
    {
     "data": {
      "text/plain": [
       "Text(0.5, 0, 'every 100 iterations')"
      ]
     },
     "execution_count": 11,
     "metadata": {},
     "output_type": "execute_result"
    },
    {
     "data": {
      "image/png": "[encoded data removed]",
      "text/plain": [
       "<Figure size 432x288 with 1 Axes>"
      ]
     },
     "metadata": {
      "needs_background": "light"
     },
     "output_type": "display_data"
    }
   ],
   "source": [
    "plt.plot(range(1, 101), accs)\n",
    "plt.ylabel('accuracy')\n",
    "plt.xlabel('every 100 iterations')"
   ]
  },
  {
   "cell_type": "markdown",
   "metadata": {},
   "source": [
    "#### saving weights"
   ]
  },
  {
   "cell_type": "code",
   "execution_count": 12,
   "metadata": {},
   "outputs": [],
   "source": [
    "import pickle\n",
    "with open('weights.pk', 'wb') as f: pickle.dump(weights, f)"
   ]
  },
  {
   "cell_type": "markdown",
   "metadata": {},
   "source": [
    "References: \n",
    "\n",
    "https://math.stackexchange.com/questions/113842/is-the-product-of-symmetric-positive-semidefinite-matrices-positive-definite\n",
    "\n",
    "https://www.cse.iitk.ac.in/users/rmittal/prev_course/s14/notes/lec11.pdf\n",
    "\n",
    "https://stats.stackexchange.com/questions/48509/proof-of-closeness-of-kernel-functions-under-pointwise-product\n",
    "\n",
    "https://ttic.uchicago.edu/~dmcallester/ttic101-07/lectures/kernels/kernels.pdf\n",
    "\n",
    "https://www.cs.cmu.edu/~aarti/Class/10701_Spring14/KernelTheory.pdf"
   ]
  },
  {
   "cell_type": "markdown",
   "metadata": {},
   "source": [
    "# The Homework has finished\n",
    "# Begin unused code"
   ]
  },
  {
   "cell_type": "code",
   "execution_count": null,
   "metadata": {},
   "outputs": [],
   "source": [
    "# def SGD(x, y, theta, lr=0.1):\n",
    "#     p = np.random.permutation(len(y))\n",
    "#     x, y = x.loc[p, :], y[p]\n",
    "#     for xi, yi in zip(x.values, y):\n",
    "#         gradient = backward(theta, xi, yi)\n",
    "#         theta -= lr*gradient\n",
    "#     return theta\n",
    "# for epoch in tqdm_notebook(epochs, file=sys.stdout):\n",
    "#     theta = SGD(x, y, theta, lr)\n",
    "#     if epoch % 100 == 0: \n",
    "#         loss = loss_func(x, y, theta, epoch)\n",
    "#         weights[epoch] = theta\n",
    "#         losses.append(loss)"
   ]
  },
  {
   "cell_type": "markdown",
   "metadata": {},
   "source": [
    "### Proof (using Mercer's Thereom):\n",
    "According to Mercer's Thereom, to prove $K(x, z)$ is kernel method is equal to prove its `Gram matrix` A is symmetric and positive semidefinitive.\n",
    "\n",
    "If $K_1(x,z), K_2(x,z)$ are both Kernel func, their `Gram matrix` are symmetric and positive semidefinitive.\n",
    "\n",
    "let $A_1$, $A_2$ be the kernel matrix of $K_1(x,z)$, $K_2(x,z)$, $\\therefore$ we need to prove $A = A_1A_2$ is also positive semidefinite\n",
    "\n",
    "$\\because A_1$ is positive semidefinite, $\\therefore A_1 $ can be decomposed into  $A_1 = (Q_1\\Lambda_1^{\\frac{1}{2}})(Q_1\\Lambda_1^{\\frac{1}{2}})^T = VV^T$\n",
    "\n",
    "\n",
    "$\\because \\forall h \\in R_n, \\qquad hVBV^Th^T = (hV)A_2(hV)^T > 0$, $\\therefore VA_2V^T$ is positive semidefinitive  .\\\n",
    "\n",
    "$\\because det(VA_2V^T−𝜆𝐼) = det(VV^TA_2−𝜆𝐼)$ $\\therefore VA_2V^T$ has the same positive eigenavalues as $VV^TA_2$, $\\therefore A = A_1A_2$ is also positive semidefinite."
   ]
  },
  {
   "cell_type": "markdown",
   "metadata": {},
   "source": []
  }
 ],
 "metadata": {
  "kernelspec": {
   "display_name": "Python 3",
   "language": "python",
   "name": "python3"
  },
  "language_info": {
   "codemirror_mode": {
    "name": "ipython",
    "version": 3
   },
   "file_extension": ".py",
   "mimetype": "text/x-python",
   "name": "python",
   "nbconvert_exporter": "python",
   "pygments_lexer": "ipython3",
   "version": "3.7.3"
  }
 },
 "nbformat": 4,
 "nbformat_minor": 2
}
