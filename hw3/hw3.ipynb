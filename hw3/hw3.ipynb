{
 "cells": [
  {
   "cell_type": "markdown",
   "metadata": {},
   "source": [
    "### Name: Hong Pengfei id: 1002949"
   ]
  },
  {
   "cell_type": "markdown",
   "metadata": {},
   "source": [
    "# Q1"
   ]
  },
  {
   "cell_type": "code",
   "execution_count": 132,
   "metadata": {},
   "outputs": [],
   "source": [
    "libsvm_train = './libsvm-3.24/svm-train'\n",
    "libsvm_pred = './libsvm-3.24/svm-predict'\n",
    "data_train = 'HW3_data/1/promoters/training.txt'\n",
    "data_test = 'HW3_data/1/promoters/test.txt'\n",
    "model = 'output/training.txt.model'\n",
    "output_file = 'output/out'"
   ]
  },
  {
   "cell_type": "code",
   "execution_count": 134,
   "metadata": {},
   "outputs": [
    {
     "name": "stdout",
     "output_type": "stream",
     "text": [
      ".....*...*\n",
      "optimization finished, #iter = 637\n",
      "nu = 0.024407\n",
      "obj = -0.903163, rho = 1.532559\n",
      "nSV = 39, nBSV = 0\n",
      "Total nSV = 39\n",
      "Accuracy = 84.375% (27/32) (classification)\n"
     ]
    }
   ],
   "source": [
    "! {libsvm_train} -t 0 {data_train} {model}\n",
    "! {libsvm_pred} {data_test} {model} {output_file}"
   ]
  },
  {
   "cell_type": "markdown",
   "metadata": {},
   "source": [
    "### kernel type 0 -- linear: u'*v have acc of 84"
   ]
  },
  {
   "cell_type": "code",
   "execution_count": 135,
   "metadata": {},
   "outputs": [
    {
     "name": "stdout",
     "output_type": "stream",
     "text": [
      ".*.*\n",
      "optimization finished, #iter = 186\n",
      "nu = 0.026157\n",
      "obj = -0.967852, rho = 0.276119\n",
      "nSV = 62, nBSV = 0\n",
      "Total nSV = 62\n",
      "Accuracy = 81.25% (26/32) (classification)\n"
     ]
    }
   ],
   "source": [
    "! {libsvm_train} -t 1 {data_train} {model}\n",
    "! {libsvm_pred} {data_test} {model} {output_file}"
   ]
  },
  {
   "cell_type": "markdown",
   "metadata": {},
   "source": [
    "### kernel type 1 -- polynomial: (gamma*u'*v + coef0)^degree has acc of 81"
   ]
  },
  {
   "cell_type": "code",
   "execution_count": 136,
   "metadata": {},
   "outputs": [
    {
     "name": "stdout",
     "output_type": "stream",
     "text": [
      ".*\n",
      "optimization finished, #iter = 96\n",
      "nu = 0.824736\n",
      "obj = -32.541976, rho = -0.133095\n",
      "nSV = 74, nBSV = 25\n",
      "Total nSV = 74\n",
      "Accuracy = 90.625% (29/32) (classification)\n"
     ]
    }
   ],
   "source": [
    "! {libsvm_train} -t 2 {data_train} {model}\n",
    "! {libsvm_pred} {data_test} {model} {output_file}"
   ]
  },
  {
   "cell_type": "markdown",
   "metadata": {},
   "source": [
    "### kernel type 2 -- radial basis function: exp(-gamma*|u-v|^2) has acc of 91"
   ]
  },
  {
   "cell_type": "code",
   "execution_count": 137,
   "metadata": {},
   "outputs": [
    {
     "name": "stdout",
     "output_type": "stream",
     "text": [
      "*\n",
      "optimization finished, #iter = 39\n",
      "nu = 0.945946\n",
      "obj = -67.705765, rho = -0.697125\n",
      "nSV = 71, nBSV = 69\n",
      "Total nSV = 71\n",
      "Accuracy = 43.75% (14/32) (classification)\n"
     ]
    }
   ],
   "source": [
    "! {libsvm_train} -t 3 {data_train} {model}\n",
    "! {libsvm_pred} {data_test} {model} {output_file}"
   ]
  },
  {
   "cell_type": "markdown",
   "metadata": {},
   "source": [
    "### kernel type of 3 -- sigmoid: tanh(gamma*u'*v + coef0) has acc of 44"
   ]
  },
  {
   "cell_type": "markdown",
   "metadata": {},
   "source": [
    "### Conclusion: \n",
    "### the second kind of kernel has better accuracy on the test set of 90.625%"
   ]
  },
  {
   "cell_type": "markdown",
   "metadata": {},
   "source": [
    "# Q2"
   ]
  },
  {
   "cell_type": "markdown",
   "metadata": {},
   "source": [
    "### 1"
   ]
  },
  {
   "cell_type": "markdown",
   "metadata": {},
   "source": [
    "The dual problem is: \\\n",
    "\\begin{equation}\n",
    "\\min_{\\alpha} \\frac{1}{2} \\sum_{i=1}^{N} \\sum_{j=1}^{N} \\alpha_i \\alpha_j y_i y_j (x_i \\cdot x_j) - \\sum_{i=1}^N \\alpha^i \\\\\n",
    " = \\frac{1}{2} (2 \\alpha^2_1 + \\alpha_2^2 - 2 \\alpha_1 \\alpha_2) - \\alpha_1 - \\alpha_2 \\\\\n",
    " s.t. \\alpha_i \\geq 0  \\qquad i=1, 2\n",
    "\\end{equation}\n",
    "Therefore, we need to\n",
    "\\begin{equation}\n",
    "min_\\alpha \\qquad \\alpha_1^2 + \\frac{1}{2}\\alpha_2^2 - \\alpha_1\\alpha_2 - \\alpha_1 - \\alpha_2\n",
    "\\end{equation}\n",
    "by taking partial derivative we get $\\alpha_1 = 2, \\alpha_2 = 3$ which satisfy the condition $\\alpha_{1,2} > 0$\\\n",
    "Therefore, $ w^* = \\sum \\alpha_i y_i x_i = (-1, 2)$ and geometric margin is $\\gamma = \\frac{2}{||w||} = \\frac{2}{\\sqrt{5}}$"
   ]
  },
  {
   "cell_type": "markdown",
   "metadata": {},
   "source": [
    "### 2"
   ]
  },
  {
   "cell_type": "markdown",
   "metadata": {},
   "source": [
    "The dual problem is: \\\n",
    "\\begin{equation}\n",
    "\\min_{\\alpha} \\frac{1}{2} \\sum_{i=1}^{N} \\sum_{j=1}^{N} \\alpha_i \\alpha_j y_i y_j (x_i \\cdot x_j) - \\sum_{i=1}^N \\alpha^i \\\\\n",
    " = \\frac{1}{2} (2 \\alpha^2_1 + \\alpha_2^2 - 2 \\alpha_1 \\alpha_2) - \\alpha_1 - \\alpha_2 \\\\\n",
    " s.t. \\qquad \\alpha_i \\geq 0  \\qquad i=1, 2 \\\\\n",
    " \\qquad \\alpha_1 - \\alpha_2 = 0\n",
    "\\end{equation}\n",
    "Therefore, we need to\n",
    "\\begin{equation}\n",
    "min_\\alpha \\qquad \\frac{1}{2}\\alpha_1^2 - 2 \\alpha_1 \n",
    "\\end{equation}\n",
    "by taking partial derivative we get $\\alpha_1 = \\alpha_2 = 2$ which satisfy the condition $\\alpha_{1,2} > 0$\n",
    "\n",
    "Therefore, $ w^* = \\sum \\alpha_i y_i x_i = (0, 2) $, \n",
    "\n",
    "for $\\alpha_j > 0$ $b^* = y_i - \\sum_{i=1}^{N} \\alpha^* y_i (x_i*x_j) = -1$ \n",
    "\n",
    "geometric margin is $\\gamma = \\frac{2}{||w||} = 1$"
   ]
  },
  {
   "cell_type": "markdown",
   "metadata": {},
   "source": [
    "# Q3"
   ]
  },
  {
   "cell_type": "markdown",
   "metadata": {},
   "source": [
    "### 1. $K(x, z) = K_1(x, z) K_2(x, z)$  is a kernel function\n",
    "\n",
    "\n",
    "\n",
    "\n",
    "\n",
    "### Proof  (using kernel definition):\n",
    "\\begin{align}\n",
    "k_1(x,y) = a(x)^T a(y), \\qquad a( z ) = [a_1(z), a_2(z), \\ldots a_M(z)] \\\\\n",
    "k_2(x,y) = b(x)^T b(y), \\qquad b( z ) = [b_1(z), b_2(z), \\ldots b_N(z)] \n",
    "\\end{align}\n",
    "\n",
    "So $a$ is a function that produces an $M$-dim vector, and $b$ produces an $N$-dim vector.\n",
    "\n",
    "Next, we just write the product in terms of $a$ and $b$, and perform some regrouping.\n",
    "\n",
    "\\begin{align}\n",
    "k_{p}(x,y) &= k_1(x,y) k_2(x,y)\n",
    "\\\\&= \\Big( \\sum_{m=1}^M a_m(x) a_m(y) \\Big) \\Big(  \\sum_{n=1}^N b_n(x) b_n(y) \\Big)\n",
    "\\\\&= \\sum_{m=1}^M \\sum_{n=1}^N [ a_m(x)  b_n(x) ] [a_m(y) b_n(y)]\n",
    "\\\\&= \\sum_{m=1}^M \\sum_{n=1}^N  c_{mn}( x )  c_{mn}( y )\n",
    "\\\\&= c(x)^T c(y)\n",
    "\\end{align}\n",
    "\n",
    "where $c(z)$ is an $M \\cdot N$ -dimensional vector, s.t. $c_{mn}(z) = a_m(z) b_n(z)$.\n"
   ]
  },
  {
   "cell_type": "markdown",
   "metadata": {},
   "source": [
    "### 2. $ K(x, z) = aK_1(x, z) + bK_2(x, z)  \\qquad a, b > 0 \\qquad a, b \\in R$, $K(x,z)$ is Kernel function\n",
    "### Proof (using Mercer's Theorem):\n",
    "According to Mercer's Thereom, to prove $K(x, z)$ is kernel method is equal to prove its `Gram matrix` A is symmetric and positive semidefinitive.\n",
    "\n",
    "If $K_1(x,z), K_2(x,z)$ are both Kernel func, their `Gram matrix` are symmetric and positive semidefinitive.\n",
    "\n",
    "\n",
    "1. To prove $ aK_1(x, z) + bK_2(x, z) $ is symmetric: \\\n",
    "for any matrix M, for any constant $k \\in $, $M * k$ is also a symmetric matrix. $\\because$ $A_{ij} = A_{ji}$ in $M$, $\\therefore$,  $kA_{ij} = kA_{ji}$. Therefore, $aK_1(x,z), bK_2(x,z)$ are all symmetric.\\\n",
    "$\\because$ $ (A+B)^T = A^T + B^T $, and if $A^T = A, B^T = B$, $\\therefore (A+B)^T = A+B$\\\n",
    "$\\because$ $aK_1(x,z), bK_2(x,z)$ are all symmetric, $\\therefore K(x, z)$ is symmetric.\n",
    "\n",
    "\n",
    "\n",
    "2. To prove $ aK_1(x, z) + bK_2(x, z) $ is positive semidefinite:\\\n",
    "Now $K_1(x, z)$ and $K_2(x, z)$ are positive definite matrices, means for all $h \\in R_n$ we must have $hK_1h \\gt 0$ and $hK_2h \\geq 0$. $\\because a, b \\gt 0 $ $\\therefore$ $aK_1(x, z)$ and $bK_2(x,z)$ are all positive semidefinite matrices.\\\n",
    "\n",
    "$\\because$ $0 \\lt haK_1(x, z)h^T + hbK_2(x, z)h^T = h(K_1(x,z)+K_2(x,z))h^T$, $\\therefore$ $ aK_1(x, z) + bK_2(x, z) $ is positive semidefinite.\n",
    "\n",
    "Therefore, their Gram matrix is both symmetric and P.S.D, $K(x,z)$ is a kernel matrix"
   ]
  },
  {
   "cell_type": "markdown",
   "metadata": {},
   "source": [
    "### 3. $ K(x, z) = aK_1(x, z) - bK_2(x, z)  \\qquad a, b > 0 \\qquad a, b \\in R$, $K(x,z)$ is not a kernel function\n",
    "### Counter example:\n",
    "\n",
    "let $a = 1, b = 2, K_1 = K2$, $\\therefore K(x,z) = -K_2(x,z)$.\n",
    "\n",
    "By Mercer's Theorem, -K_2(x,z) cannot be kernel function because it has a semi-negative kernel matrix."
   ]
  },
  {
   "cell_type": "markdown",
   "metadata": {},
   "source": [
    "### 4. $K(x, z) = f(x)f(z),$ where f : Rn -> R be any real valued function of x. This is a kernel.\n",
    "The proof is trivial: \n",
    "\n",
    "$\\because$ by kernel defition $K(x,z) = \\phi(x)\\phi(z)$ where $\\phi(y): Rd \\rightarrow Rp$, in case of p=1, $K(x,z) = f(x)f(z)$. "
   ]
  },
  {
   "cell_type": "markdown",
   "metadata": {},
   "source": [
    "# Q4"
   ]
  },
  {
   "cell_type": "code",
   "execution_count": 9,
   "metadata": {},
   "outputs": [],
   "source": [
    "%matplotlib inline\n",
    "import pandas as pd\n",
    "import numpy as np\n",
    "from matplotlib import pyplot as plt\n",
    "from tqdm import tqdm_notebook, tqdm\n",
    "import sys"
   ]
  },
  {
   "cell_type": "markdown",
   "metadata": {},
   "source": [
    "### 1."
   ]
  },
  {
   "cell_type": "code",
   "execution_count": 221,
   "metadata": {},
   "outputs": [
    {
     "name": "stdout",
     "output_type": "stream",
     "text": [
      "CPU times: user 359 µs, sys: 0 ns, total: 359 µs\n",
      "Wall time: 392 µs\n",
      "3.8429624470446271242e-422\n",
      "\n",
      "CPU times: user 338 µs, sys: 0 ns, total: 338 µs\n",
      "Wall time: 343 µs\n",
      "2.2051243729623736413e-415\n"
     ]
    }
   ],
   "source": [
    "res = 1\n",
    "temp = np.random.rand(1000).astype(np.float128)\n",
    "%time for i in temp: res *= i\n",
    "print(res)\n",
    "print()\n",
    "res = 0\n",
    "temp = np.log(np.random.rand(1000))\n",
    "%time for i in temp: res += i\n",
    "print(np.exp(res.astype(np.float128)))"
   ]
  },
  {
   "cell_type": "markdown",
   "metadata": {},
   "source": [
    "### Using log has certain advantages\n",
    "1. loglikelihood can express a series of multiplication in terms of addition, which is more computationally cheaper. Therefore it only takes more time to calculate multiplication as showed above. \n",
    "2. multiplication of a sequence of numbers that is smaller than 1 will stackoverflow and become zero, therefore needs higher precision like float128, however, it only needs float32 to calculate the equation under the log to a certain amount of precision."
   ]
  },
  {
   "cell_type": "markdown",
   "metadata": {},
   "source": [
    "### 2."
   ]
  },
  {
   "cell_type": "code",
   "execution_count": 120,
   "metadata": {},
   "outputs": [],
   "source": [
    "diabetes = pd.read_csv('HW3_data/4/diabetes_train.csv', header=None)"
   ]
  },
  {
   "cell_type": "code",
   "execution_count": 121,
   "metadata": {},
   "outputs": [],
   "source": [
    "x, y = diabetes.drop(columns=0), diabetes.loc[:, 0][:,np.newaxis]\n",
    "x['bias'] = np.ones((len(x), 1))"
   ]
  },
  {
   "cell_type": "markdown",
   "metadata": {},
   "source": [
    "## formulas\n",
    "\n",
    "loss:\\\n",
    "\\begin{equation}\n",
    "E = \\sum_{i=1}^{n}\\log{(  1 + \\exp \\{-y^{i} (\\theta \\cdot x^{i} + \\theta_0) \\}    )} \\\n",
    "\\end{equation}\n",
    "\n",
    "derivative of loss: \\\n",
    "\\begin{equation}\n",
    "\\frac{\\partial{E^{(t)}}}{\\partial{\\theta}} =  \\frac{-y^{(t)} x^{(t)}}{1 + exp(y^{(t)} (\\theta x^{(t)}) )}  \\\n",
    "\\end{equation}\n",
    "\n",
    "loglikelihood = -E"
   ]
  },
  {
   "cell_type": "code",
   "execution_count": 122,
   "metadata": {},
   "outputs": [],
   "source": [
    "def backward(theta, x, y):\n",
    "    # x (dim,)\n",
    "    # y scalar\n",
    "    gradient = - (y * x) / (1 + np.exp(y * (x.dot(theta) ) ) ) \n",
    "    gradient = gradient[:,np.newaxis]\n",
    "    return gradient\n",
    "\n",
    "def loss_func(x, y, theta, epoch):\n",
    "    # x (n, dim)\n",
    "    # y (n, 1)\n",
    "    loss = np.sum(np.log( 1 + np.exp( np.multiply(-y, (x.values.dot(theta))))) )\n",
    "    acc = np.sum(np.sign(x.values.dot(theta)) == y)/ len(y)\n",
    "    print(f'iteration {iteration} \\t loss {loss}, \\t accuracy is {acc}')\n",
    "    return loss, acc"
   ]
  },
  {
   "cell_type": "code",
   "execution_count": 123,
   "metadata": {
    "scrolled": false
   },
   "outputs": [
    {
     "data": {
      "application/vnd.jupyter.widget-view+json": {
       "model_id": "fc351271a8724168a868554abdba612f",
       "version_major": 2,
       "version_minor": 0
      },
      "text/plain": [
       "HBox(children=(IntProgress(value=0, max=10000), HTML(value='')))"
      ]
     },
     "metadata": {},
     "output_type": "display_data"
    },
    {
     "name": "stdout",
     "output_type": "stream",
     "text": [
      "iteration 0 \t loss 1255.7914874265118, \t accuracy is 0.8466666666666667\n",
      "iteration 100 \t loss 1064.7264973867093, \t accuracy is 0.845\n",
      "iteration 200 \t loss 878.5048425331993, \t accuracy is 0.8686666666666667\n",
      "iteration 300 \t loss 789.9191186782184, \t accuracy is 0.8783333333333333\n",
      "iteration 400 \t loss 732.5139503688447, \t accuracy is 0.877\n",
      "iteration 500 \t loss 684.8038194255557, \t accuracy is 0.882\n",
      "iteration 600 \t loss 618.4791361525633, \t accuracy is 0.9\n",
      "iteration 700 \t loss 560.7993148589188, \t accuracy is 0.921\n",
      "iteration 800 \t loss 511.02620864913797, \t accuracy is 0.9313333333333333\n",
      "iteration 900 \t loss 518.5662096830745, \t accuracy is 0.9556666666666667\n",
      "iteration 1000 \t loss 482.1960980775829, \t accuracy is 0.9223333333333333\n",
      "iteration 1100 \t loss 504.33977510783217, \t accuracy is 0.958\n",
      "iteration 1200 \t loss 428.61115682087325, \t accuracy is 0.9526666666666667\n",
      "iteration 1300 \t loss 418.91806022056255, \t accuracy is 0.9596666666666667\n",
      "iteration 1400 \t loss 427.5683875938644, \t accuracy is 0.935\n",
      "iteration 1500 \t loss 397.82979915414796, \t accuracy is 0.962\n",
      "iteration 1600 \t loss 436.1304282745937, \t accuracy is 0.9666666666666667\n",
      "iteration 1700 \t loss 378.3839708968436, \t accuracy is 0.9663333333333334\n",
      "iteration 1800 \t loss 365.804561004054, \t accuracy is 0.9716666666666667\n",
      "iteration 1900 \t loss 361.132731077538, \t accuracy is 0.9603333333333334\n",
      "iteration 2000 \t loss 351.383644218927, \t accuracy is 0.963\n",
      "iteration 2100 \t loss 358.9106922427387, \t accuracy is 0.9503333333333334\n",
      "iteration 2200 \t loss 341.2074457543509, \t accuracy is 0.975\n",
      "iteration 2300 \t loss 343.18676038521767, \t accuracy is 0.955\n",
      "iteration 2400 \t loss 346.1756810192598, \t accuracy is 0.9786666666666667\n",
      "iteration 2500 \t loss 360.45845387329337, \t accuracy is 0.942\n",
      "iteration 2600 \t loss 313.12509080270263, \t accuracy is 0.972\n",
      "iteration 2700 \t loss 370.8568819888894, \t accuracy is 0.9346666666666666\n",
      "iteration 2800 \t loss 304.3926291919565, \t accuracy is 0.9736666666666667\n",
      "iteration 2900 \t loss 297.9386532284427, \t accuracy is 0.9743333333333334\n",
      "iteration 3000 \t loss 303.2641150827948, \t accuracy is 0.9656666666666667\n",
      "iteration 3100 \t loss 302.01360750970025, \t accuracy is 0.964\n",
      "iteration 3200 \t loss 301.8105726679876, \t accuracy is 0.9616666666666667\n",
      "iteration 3300 \t loss 293.4042759691903, \t accuracy is 0.967\n",
      "iteration 3400 \t loss 288.55682528627005, \t accuracy is 0.9686666666666667\n",
      "iteration 3500 \t loss 284.83362323371864, \t accuracy is 0.9723333333333334\n",
      "iteration 3600 \t loss 305.9266691870646, \t accuracy is 0.9783333333333334\n",
      "iteration 3700 \t loss 272.1762642549854, \t accuracy is 0.9813333333333333\n",
      "iteration 3800 \t loss 273.0854618531481, \t accuracy is 0.986\n",
      "iteration 3900 \t loss 294.5555614157268, \t accuracy is 0.9806666666666667\n",
      "iteration 4000 \t loss 267.9586314036924, \t accuracy is 0.9863333333333333\n",
      "iteration 4100 \t loss 264.50284669590434, \t accuracy is 0.9883333333333333\n",
      "iteration 4200 \t loss 256.8967437869243, \t accuracy is 0.9853333333333333\n",
      "iteration 4300 \t loss 253.84496019936623, \t accuracy is 0.9873333333333333\n",
      "iteration 4400 \t loss 303.6733525299827, \t accuracy is 0.9723333333333334\n",
      "iteration 4500 \t loss 272.1973193652779, \t accuracy is 0.984\n",
      "iteration 4600 \t loss 250.43667150067634, \t accuracy is 0.989\n",
      "iteration 4700 \t loss 251.64016176469374, \t accuracy is 0.977\n",
      "iteration 4800 \t loss 242.39858558550213, \t accuracy is 0.988\n",
      "iteration 4900 \t loss 245.2235775874554, \t accuracy is 0.987\n",
      "iteration 5000 \t loss 247.43853454681488, \t accuracy is 0.9763333333333334\n",
      "iteration 5100 \t loss 236.82165172364563, \t accuracy is 0.9873333333333333\n",
      "iteration 5200 \t loss 252.08279544787274, \t accuracy is 0.9686666666666667\n",
      "iteration 5300 \t loss 234.20647492037176, \t accuracy is 0.985\n",
      "iteration 5400 \t loss 232.24292573749435, \t accuracy is 0.989\n",
      "iteration 5500 \t loss 241.51626834770883, \t accuracy is 0.974\n",
      "iteration 5600 \t loss 231.3017260194581, \t accuracy is 0.989\n",
      "iteration 5700 \t loss 229.73487387098913, \t accuracy is 0.98\n",
      "iteration 5800 \t loss 250.6949825749186, \t accuracy is 0.966\n",
      "iteration 5900 \t loss 255.54086683242053, \t accuracy is 0.9826666666666667\n",
      "iteration 6000 \t loss 224.29784573726872, \t accuracy is 0.9826666666666667\n",
      "iteration 6100 \t loss 220.891917567269, \t accuracy is 0.9876666666666667\n",
      "iteration 6200 \t loss 228.99471377879794, \t accuracy is 0.9756666666666667\n",
      "iteration 6300 \t loss 220.56132083884185, \t accuracy is 0.9903333333333333\n",
      "iteration 6400 \t loss 243.23187386728677, \t accuracy is 0.968\n",
      "iteration 6500 \t loss 224.29454592616327, \t accuracy is 0.9766666666666667\n",
      "iteration 6600 \t loss 238.46079830419953, \t accuracy is 0.968\n",
      "iteration 6700 \t loss 221.70232048796694, \t accuracy is 0.9916666666666667\n",
      "iteration 6800 \t loss 214.91759240558497, \t accuracy is 0.9893333333333333\n",
      "iteration 6900 \t loss 216.5251743066238, \t accuracy is 0.983\n",
      "iteration 7000 \t loss 209.92226244028666, \t accuracy is 0.9876666666666667\n",
      "iteration 7100 \t loss 209.32539125014398, \t accuracy is 0.984\n",
      "iteration 7200 \t loss 207.54631920496766, \t accuracy is 0.987\n",
      "iteration 7300 \t loss 207.3786682180206, \t accuracy is 0.9876666666666667\n",
      "iteration 7400 \t loss 204.58612105838745, \t accuracy is 0.9883333333333333\n",
      "iteration 7500 \t loss 205.58319567789366, \t accuracy is 0.9896666666666667\n",
      "iteration 7600 \t loss 202.24795805736647, \t accuracy is 0.9893333333333333\n",
      "iteration 7700 \t loss 203.77342377590895, \t accuracy is 0.9873333333333333\n",
      "iteration 7800 \t loss 203.94109906114232, \t accuracy is 0.9873333333333333\n",
      "iteration 7900 \t loss 215.05678333215462, \t accuracy is 0.9783333333333334\n",
      "iteration 8000 \t loss 201.1074119880547, \t accuracy is 0.9893333333333333\n",
      "iteration 8100 \t loss 200.47061016506618, \t accuracy is 0.9873333333333333\n",
      "iteration 8200 \t loss 200.0497928220808, \t accuracy is 0.9906666666666667\n",
      "iteration 8300 \t loss 204.0831298816202, \t accuracy is 0.9906666666666667\n",
      "iteration 8400 \t loss 196.76663329538, \t accuracy is 0.9863333333333333\n",
      "iteration 8500 \t loss 193.13381319868114, \t accuracy is 0.9896666666666667\n",
      "iteration 8600 \t loss 195.46055070487262, \t accuracy is 0.99\n",
      "iteration 8700 \t loss 194.35275647370176, \t accuracy is 0.9903333333333333\n",
      "iteration 8800 \t loss 199.22082812675086, \t accuracy is 0.991\n",
      "iteration 8900 \t loss 195.3442061049787, \t accuracy is 0.9836666666666667\n",
      "iteration 9000 \t loss 193.38806753356093, \t accuracy is 0.9913333333333333\n",
      "iteration 9100 \t loss 198.01772134879764, \t accuracy is 0.992\n",
      "iteration 9200 \t loss 190.62969495526926, \t accuracy is 0.992\n",
      "iteration 9300 \t loss 190.65756773812404, \t accuracy is 0.992\n",
      "iteration 9400 \t loss 186.69743136154372, \t accuracy is 0.9936666666666667\n",
      "iteration 9500 \t loss 185.43813465860677, \t accuracy is 0.9916666666666667\n",
      "iteration 9600 \t loss 187.17373439235547, \t accuracy is 0.9916666666666667\n",
      "iteration 9700 \t loss 184.4552275002677, \t accuracy is 0.9913333333333333\n",
      "iteration 9800 \t loss 200.94471724980585, \t accuracy is 0.9906666666666667\n",
      "iteration 9900 \t loss 187.1713987908287, \t accuracy is 0.9853333333333333\n"
     ]
    }
   ],
   "source": [
    "losses = []\n",
    "accs = []\n",
    "lr = 0.1\n",
    "theta = np.random.normal(0, 1, (x.shape[1], 1) )\n",
    "iterations = 10000\n",
    "idxs = np.random.choice(len(x), size=iterations)\n",
    "weights = {}\n",
    "\n",
    "for iteration, i in enumerate(tqdm_notebook(idxs, file=sys.stdout)):\n",
    "    xi, yi = x.loc[i,:], y[i]\n",
    "    gradient = get_gradient(xi, yi, theta)\n",
    "    theta -= lr * gradient\n",
    "    if iteration % 100 == 0:\n",
    "        loss, acc = loss_func(x, y, theta, epoch)\n",
    "        weights[iteration] = theta\n",
    "        losses.append(loss)\n",
    "        accs.append(acc)"
   ]
  },
  {
   "cell_type": "code",
   "execution_count": 124,
   "metadata": {},
   "outputs": [
    {
     "data": {
      "text/plain": [
       "Text(0.5, 0, 'every 100 iterations')"
      ]
     },
     "execution_count": 124,
     "metadata": {},
     "output_type": "execute_result"
    },
    {
     "data": {
      "image/png": "[encoded data removed]",
      "text/plain": [
       "<Figure size 432x288 with 1 Axes>"
      ]
     },
     "metadata": {
      "needs_background": "light"
     },
     "output_type": "display_data"
    }
   ],
   "source": [
    "plt.plot(range(1, 101), -1*np.array(losses))\n",
    "plt.ylabel('loglikelihood ')\n",
    "plt.xlabel('every 100 iterations')"
   ]
  },
  {
   "cell_type": "code",
   "execution_count": 125,
   "metadata": {},
   "outputs": [
    {
     "data": {
      "text/plain": [
       "Text(0.5, 0, 'every 100 iterations')"
      ]
     },
     "execution_count": 125,
     "metadata": {},
     "output_type": "execute_result"
    },
    {
     "data": {
      "image/png": "[encoded data removed]",
      "text/plain": [
       "<Figure size 432x288 with 1 Axes>"
      ]
     },
     "metadata": {
      "needs_background": "light"
     },
     "output_type": "display_data"
    }
   ],
   "source": [
    "plt.plot(range(1, 101), accs)\n",
    "plt.ylabel('accuracy')\n",
    "plt.xlabel('every 100 iterations')"
   ]
  },
  {
   "cell_type": "markdown",
   "metadata": {},
   "source": [
    "#### saving weights"
   ]
  },
  {
   "cell_type": "code",
   "execution_count": 126,
   "metadata": {},
   "outputs": [],
   "source": [
    "import pickle\n",
    "with open('weights.pk', 'wb') as f: pickle.dump(weights, f)"
   ]
  },
  {
   "cell_type": "markdown",
   "metadata": {},
   "source": [
    "References: \n",
    "\n",
    "https://math.stackexchange.com/questions/113842/is-the-product-of-symmetric-positive-semidefinite-matrices-positive-definite\n",
    "\n",
    "https://www.cse.iitk.ac.in/users/rmittal/prev_course/s14/notes/lec11.pdf\n",
    "\n",
    "https://stats.stackexchange.com/questions/48509/proof-of-closeness-of-kernel-functions-under-pointwise-product\n",
    "\n",
    "https://ttic.uchicago.edu/~dmcallester/ttic101-07/lectures/kernels/kernels.pdf\n",
    "\n",
    "https://www.cs.cmu.edu/~aarti/Class/10701_Spring14/KernelTheory.pdf"
   ]
  },
  {
   "cell_type": "markdown",
   "metadata": {},
   "source": [
    "# The Homework has finished\n",
    "# Begin unused code"
   ]
  },
  {
   "cell_type": "code",
   "execution_count": null,
   "metadata": {},
   "outputs": [],
   "source": [
    "# def SGD(x, y, theta, lr=0.1):\n",
    "#     p = np.random.permutation(len(y))\n",
    "#     x, y = x.loc[p, :], y[p]\n",
    "#     for xi, yi in zip(x.values, y):\n",
    "#         gradient = backward(theta, xi, yi)\n",
    "#         theta -= lr*gradient\n",
    "#     return theta\n",
    "# for epoch in tqdm_notebook(epochs, file=sys.stdout):\n",
    "#     theta = SGD(x, y, theta, lr)\n",
    "#     if epoch % 100 == 0: \n",
    "#         loss = loss_func(x, y, theta, epoch)\n",
    "#         weights[epoch] = theta\n",
    "#         losses.append(loss)"
   ]
  },
  {
   "cell_type": "markdown",
   "metadata": {},
   "source": [
    "### Proof (using Mercer's Thereom):\n",
    "According to Mercer's Thereom, to prove $K(x, z)$ is kernel method is equal to prove its `Gram matrix` A is symmetric and positive semidefinitive.\n",
    "\n",
    "If $K_1(x,z), K_2(x,z)$ are both Kernel func, their `Gram matrix` are symmetric and positive semidefinitive.\n",
    "\n",
    "let $A_1$, $A_2$ be the kernel matrix of $K_1(x,z)$, $K_2(x,z)$, $\\therefore$ we need to prove $A = A_1A_2$ is also positive semidefinite\n",
    "\n",
    "$\\because A_1$ is positive semidefinite, $\\therefore A_1 $ can be decomposed into  $A_1 = (Q_1\\Lambda_1^{\\frac{1}{2}})(Q_1\\Lambda_1^{\\frac{1}{2}})^T = VV^T$\n",
    "\n",
    "\n",
    "$\\because \\forall h \\in R_n, \\qquad hVBV^Th^T = (hV)A_2(hV)^T > 0$, $\\therefore VA_2V^T$ is positive semidefinitive  .\\\n",
    "\n",
    "$\\because det(VA_2V^T−𝜆𝐼) = det(VV^TA_2−𝜆𝐼)$ $\\therefore VA_2V^T$ has the same positive eigenavalues as $VV^TA_2$, $\\therefore A = A_1A_2$ is also positive semidefinite."
   ]
  },
  {
   "cell_type": "markdown",
   "metadata": {},
   "source": []
  }
 ],
 "metadata": {
  "kernelspec": {
   "display_name": "Python 3",
   "language": "python",
   "name": "python3"
  },
  "language_info": {
   "codemirror_mode": {
    "name": "ipython",
    "version": 3
   },
   "file_extension": ".py",
   "mimetype": "text/x-python",
   "name": "python",
   "nbconvert_exporter": "python",
   "pygments_lexer": "ipython3",
   "version": "3.7.3"
  }
 },
 "nbformat": 4,
 "nbformat_minor": 2
}
