{
 "cells": [
  {
   "cell_type": "markdown",
   "metadata": {},
   "source": [
    "### Name: Hong Pengfei id: 1002949"
   ]
  },
  {
   "cell_type": "markdown",
   "metadata": {},
   "source": [
    "# Q1"
   ]
  },
  {
   "cell_type": "code",
   "execution_count": 132,
   "metadata": {},
   "outputs": [],
   "source": [
    "libsvm_train = './libsvm-3.24/svm-train'\n",
    "libsvm_pred = './libsvm-3.24/svm-predict'\n",
    "data_train = 'HW3_data/1/promoters/training.txt'\n",
    "data_test = 'HW3_data/1/promoters/test.txt'\n",
    "model = 'output/training.txt.model'\n",
    "output_file = 'output/out'"
   ]
  },
  {
   "cell_type": "code",
   "execution_count": 134,
   "metadata": {},
   "outputs": [
    {
     "name": "stdout",
     "output_type": "stream",
     "text": [
      ".....*...*\n",
      "optimization finished, #iter = 637\n",
      "nu = 0.024407\n",
      "obj = -0.903163, rho = 1.532559\n",
      "nSV = 39, nBSV = 0\n",
      "Total nSV = 39\n",
      "Accuracy = 84.375% (27/32) (classification)\n"
     ]
    }
   ],
   "source": [
    "! {libsvm_train} -t 0 {data_train} {model}\n",
    "! {libsvm_pred} {data_test} {model} {output_file}"
   ]
  },
  {
   "cell_type": "markdown",
   "metadata": {},
   "source": [
    "### kernel type 0 -- linear: u'*v have acc of 84"
   ]
  },
  {
   "cell_type": "code",
   "execution_count": 135,
   "metadata": {},
   "outputs": [
    {
     "name": "stdout",
     "output_type": "stream",
     "text": [
      ".*.*\n",
      "optimization finished, #iter = 186\n",
      "nu = 0.026157\n",
      "obj = -0.967852, rho = 0.276119\n",
      "nSV = 62, nBSV = 0\n",
      "Total nSV = 62\n",
      "Accuracy = 81.25% (26/32) (classification)\n"
     ]
    }
   ],
   "source": [
    "! {libsvm_train} -t 1 {data_train} {model}\n",
    "! {libsvm_pred} {data_test} {model} {output_file}"
   ]
  },
  {
   "cell_type": "markdown",
   "metadata": {},
   "source": [
    "### kernel type 1 -- polynomial: (gamma*u'*v + coef0)^degree has acc of 81"
   ]
  },
  {
   "cell_type": "code",
   "execution_count": 136,
   "metadata": {},
   "outputs": [
    {
     "name": "stdout",
     "output_type": "stream",
     "text": [
      ".*\n",
      "optimization finished, #iter = 96\n",
      "nu = 0.824736\n",
      "obj = -32.541976, rho = -0.133095\n",
      "nSV = 74, nBSV = 25\n",
      "Total nSV = 74\n",
      "Accuracy = 90.625% (29/32) (classification)\n"
     ]
    }
   ],
   "source": [
    "! {libsvm_train} -t 2 {data_train} {model}\n",
    "! {libsvm_pred} {data_test} {model} {output_file}"
   ]
  },
  {
   "cell_type": "markdown",
   "metadata": {},
   "source": [
    "### kernel type 2 -- radial basis function: exp(-gamma*|u-v|^2) has acc of 91"
   ]
  },
  {
   "cell_type": "code",
   "execution_count": 137,
   "metadata": {},
   "outputs": [
    {
     "name": "stdout",
     "output_type": "stream",
     "text": [
      "*\n",
      "optimization finished, #iter = 39\n",
      "nu = 0.945946\n",
      "obj = -67.705765, rho = -0.697125\n",
      "nSV = 71, nBSV = 69\n",
      "Total nSV = 71\n",
      "Accuracy = 43.75% (14/32) (classification)\n"
     ]
    }
   ],
   "source": [
    "! {libsvm_train} -t 3 {data_train} {model}\n",
    "! {libsvm_pred} {data_test} {model} {output_file}"
   ]
  },
  {
   "cell_type": "markdown",
   "metadata": {},
   "source": [
    "### kernel type of 3 -- sigmoid: tanh(gamma*u'*v + coef0) has acc of 44"
   ]
  },
  {
   "cell_type": "markdown",
   "metadata": {},
   "source": [
    "### Conclusion: \n",
    "### the second kind of kernel has better accuracy on the test set of 90.625%"
   ]
  },
  {
   "cell_type": "markdown",
   "metadata": {},
   "source": [
    "# Q2"
   ]
  },
  {
   "cell_type": "markdown",
   "metadata": {},
   "source": [
    "### 1"
   ]
  },
  {
   "cell_type": "markdown",
   "metadata": {},
   "source": [
    "The dual problem is: \\\n",
    "\\begin{equation}\n",
    "\\min_{\\alpha} \\frac{1}{2} \\sum_{i=1}^{N} \\sum_{j=1}^{N} \\alpha_i \\alpha_j y_i y_j (x_i \\cdot x_j) - \\sum_{i=1}^N \\alpha^i \\\\\n",
    " = \\frac{1}{2} (2 \\alpha^2_1 + \\alpha_2^2 - 2 \\alpha_1 \\alpha_2) - \\alpha_1 - \\alpha_2 \\\\\n",
    " s.t. \\alpha_i \\geq 0  \\qquad i=1, 2\n",
    "\\end{equation}\n",
    "Therefore, we need to\n",
    "\\begin{equation}\n",
    "min_\\alpha \\qquad \\alpha_1^2 + \\frac{1}{2}\\alpha_2^2 - \\alpha_1\\alpha_2 - \\alpha_1 - \\alpha_2\n",
    "\\end{equation}\n",
    "by taking partial derivative we get $\\alpha_1 = 2, \\alpha_2 = 3$ which satisfy the condition $\\alpha_{1,2} > 0$\\\n",
    "Therefore, $ w^* = \\sum \\alpha_i y_i x_i = (-1, 2)$ and margin is $\\gamma = \\frac{1}{||w||} = \\frac{1}{\\sqrt{5}}$"
   ]
  },
  {
   "cell_type": "markdown",
   "metadata": {},
   "source": [
    "### 2"
   ]
  },
  {
   "cell_type": "markdown",
   "metadata": {},
   "source": [
    "The dual problem is: \\\n",
    "\\begin{equation}\n",
    "\\min_{\\alpha} \\frac{1}{2} \\sum_{i=1}^{N} \\sum_{j=1}^{N} \\alpha_i \\alpha_j y_i y_j (x_i \\cdot x_j) - \\sum_{i=1}^N \\alpha^i \\\\\n",
    " = \\frac{1}{2} (2 \\alpha^2_1 + \\alpha_2^2 - 2 \\alpha_1 \\alpha_2) - \\alpha_1 - \\alpha_2 \\\\\n",
    " s.t. \\qquad \\alpha_i \\geq 0  \\qquad i=1, 2 \\\\\n",
    " \\qquad \\alpha_1 - \\alpha_2 = 0\n",
    "\\end{equation}\n",
    "Therefore, we need to\n",
    "\\begin{equation}\n",
    "min_\\alpha \\qquad \\frac{1}{2}\\alpha_1^2 - 2 \\alpha_1 \n",
    "\\end{equation}\n",
    "by taking partial derivative we get $\\alpha_1 = \\alpha_2 = 2$ which satisfy the condition $\\alpha_{1,2} > 0$\n",
    "\n",
    "Therefore, $ w^* = \\sum \\alpha_i y_i x_i = (0, 2) $, \n",
    "\n",
    "for $\\alpha_j > 0$ $b^* = y_i - \\sum_{i=1}^{N} \\alpha^* y_i (x_i*x_j) = -1$ \n",
    "\n",
    "margin is $\\gamma = \\frac{1}{||w||} = \\frac{1}{2}$"
   ]
  },
  {
   "cell_type": "markdown",
   "metadata": {},
   "source": [
    "# Q3"
   ]
  },
  {
   "cell_type": "markdown",
   "metadata": {},
   "source": [
    "### 1. $K(x, z) = K_1(x, z) K_2(x, z)$  is a kernel function\n",
    "\n",
    "\n",
    "### Proof (using Mercer's Thereom):\n",
    "According to Mercer's Thereom, to prove $K(x, z)$ is kernel method is equal to prove its `Gram matrix` A is symmetric and positive semidefinitive.\n",
    "\n",
    "If $K_1(x,z), K_2(x,z)$ are both Kernel func, their `Gram matrix` are symmetric and positive semidefinitive.\\\n",
    "\n",
    "let $A_1$, $A_2$ be the kernel matrix of $K_1(x,z)$, $K_2(x,z)$, $\\therefore$ we need to prove $A = A_1A_2$ is also positive semidefinite\n",
    "\n",
    "$\\because A_1$ is positive semidefinite, $\\therefore A_1 $ can be decomposed into  $A_1 = (Q_1\\Lambda_1^{\\frac{1}{2}})(Q_1\\Lambda_1^{\\frac{1}{2}})^T = VV^T$\n",
    "\n",
    "\n",
    "$\\because \\forall h \\in R_n, \\qquad hVBV^Th^T = (hV)A_2(hV)^T > 0$, $\\therefore VA_2V^T$ is positive semidefinitive  .\\\n",
    "\n",
    "$\\because det(VA_2V^T−𝜆𝐼) = det(VV^TA_2−𝜆𝐼)$ $\\therefore VA_2V^T$ has the same positive eigenavalues as $VV^TA_2$, $\\therefore A = A_1A_2$ is also positive semidefinite.\n",
    "\n",
    "\n",
    "### Proof 2 (using kernel definition):\n",
    "\\begin{align}\n",
    "k_1(x,y) = a(x)^T a(y), \\qquad a( z ) = [a_1(z), a_2(z), \\ldots a_M(z)] \\\\\n",
    "k_2(x,y) = b(x)^T b(y), \\qquad b( z ) = [b_1(z), b_2(z), \\ldots b_N(z)] \n",
    "\\end{align}\n",
    "\n",
    "So $a$ is a function that produces an $M$-dim vector, and $b$ produces an $N$-dim vector.\n",
    "\n",
    "Next, we just write the product in terms of $a$ and $b$, and perform some regrouping.\n",
    "\n",
    "\\begin{align}\n",
    "k_{p}(x,y) &= k_1(x,y) k_2(x,y)\n",
    "\\\\&= \\Big( \\sum_{m=1}^M a_m(x) a_m(y) \\Big) \\Big(  \\sum_{n=1}^N b_n(x) b_n(y) \\Big)\n",
    "\\\\&= \\sum_{m=1}^M \\sum_{n=1}^N [ a_m(x)  b_n(x) ] [a_m(y) b_n(y)]\n",
    "\\\\&= \\sum_{m=1}^M \\sum_{n=1}^N  c_{mn}( x )  c_{mn}( y )\n",
    "\\\\&= c(x)^T c(y)\n",
    "\\end{align}\n",
    "\n",
    "where $c(z)$ is an $M \\cdot N$ -dimensional vector, s.t. $c_{mn}(z) = a_m(z) b_n(z)$.\n"
   ]
  },
  {
   "cell_type": "markdown",
   "metadata": {},
   "source": [
    "### 2. $ K(x, z) = aK_1(x, z) + bK_2(x, z)  \\qquad a, b > 0 \\qquad a, b \\in R$, $K(x,z)$ is Kernel function\n",
    "### Proof (using Mercer's Theorem):\n",
    "According to Mercer's Thereom, to prove $K(x, z)$ is kernel method is equal to prove its `Gram matrix` A is symmetric and positive semidefinitive.\n",
    "\n",
    "If $K_1(x,z), K_2(x,z)$ are both Kernel func, their `Gram matrix` are symmetric and positive semidefinitive.\n",
    "\n",
    "\n",
    "1. To prove $ aK_1(x, z) + bK_2(x, z) $ is symmetric: \\\n",
    "for any matrix M, for any constant $k \\in $, $M * k$ is also a symmetric matrix. $\\because$ $A_{ij} = A_{ji}$ in $M$, $\\therefore$,  $kA_{ij} = kA_{ji}$. Therefore, $aK_1(x,z), bK_2(x,z)$ are all symmetric.\\\n",
    "$\\because$ $ (A+B)^T = A^T + B^T $, and if $A^T = A, B^T = B$, $\\therefore (A+B)^T = A+B$\\\n",
    "$\\because$ $aK_1(x,z), bK_2(x,z)$ are all symmetric, $\\therefore K(x, z)$ is symmetric.\n",
    "\n",
    "\n",
    "\n",
    "2. To prove $ aK_1(x, z) + bK_2(x, z) $ is positive semidefinite:\\\n",
    "Now $K_1(x, z)$ and $K_2(x, z)$ are positive definite matrices, means for all $h \\in R_n$ we must have $hK_1h \\gt 0$ and $hK_2h \\geq 0$. $\\because a, b \\gt 0 $ $\\therefore$ $aK_1(x, z)$ and $bK_2(x,z)$ are all positive semidefinite matrices.\\\n",
    "\n",
    "$\\because$ $0 \\lt haK_1(x, z)h^T + hbK_2(x, z)h^T = h(K_1(x,z)+K_2(x,z))h^T$, $\\therefore$ $ aK_1(x, z) + bK_2(x, z) $ is positive semidefinite."
   ]
  },
  {
   "cell_type": "markdown",
   "metadata": {},
   "source": [
    "### 3. $ K(x, z) = aK_1(x, z) - bK_2(x, z)  \\qquad a, b > 0 \\qquad a, b \\in R$, $K(x,z)$ is not a kernel function\n",
    "### Counter example:\n",
    "\n",
    "let $a = 1, b = 2, K_1 = K2$, $\\therefore K(x,z) = -K_2(x,z)$.\n",
    "\n",
    "By Mercer's Theorem, -K_2(x,z) cannot be kernel function because it has a semi-negative kernel matrix."
   ]
  },
  {
   "cell_type": "markdown",
   "metadata": {},
   "source": [
    "### 4. $K(x, z) = f(x)f(z),$ where f : Rn -> R be any real valued function of x. This is a kernel.\n",
    "The proof is trivial: \n",
    "\n",
    "$\\because$ by kernel defition $K(x,z) = \\phi(x)\\phi(z)$ where $\\phi(y): Rd \\rightarrow Rp$, in case of p=1, $K(x,z) = f(x)f(z)$. "
   ]
  },
  {
   "cell_type": "markdown",
   "metadata": {},
   "source": [
    "# Q4"
   ]
  },
  {
   "cell_type": "code",
   "execution_count": 42,
   "metadata": {},
   "outputs": [],
   "source": [
    "%matplotlib inline\n",
    "import pandas as pd\n",
    "import numpy as np\n",
    "from matplotlib import pyplot as plt\n",
    "from tqdm import tqdm_notebook, tqdm\n",
    "import sys"
   ]
  },
  {
   "cell_type": "markdown",
   "metadata": {},
   "source": [
    "### 1."
   ]
  },
  {
   "cell_type": "code",
   "execution_count": 221,
   "metadata": {},
   "outputs": [
    {
     "name": "stdout",
     "output_type": "stream",
     "text": [
      "CPU times: user 359 µs, sys: 0 ns, total: 359 µs\n",
      "Wall time: 392 µs\n",
      "3.8429624470446271242e-422\n",
      "\n",
      "CPU times: user 338 µs, sys: 0 ns, total: 338 µs\n",
      "Wall time: 343 µs\n",
      "2.2051243729623736413e-415\n"
     ]
    }
   ],
   "source": [
    "res = 1\n",
    "temp = np.random.rand(1000).astype(np.float128)\n",
    "%time for i in temp: res *= i\n",
    "print(res)\n",
    "print()\n",
    "res = 0\n",
    "temp = np.log(np.random.rand(1000))\n",
    "%time for i in temp: res += i\n",
    "print(np.exp(res.astype(np.float128)))"
   ]
  },
  {
   "cell_type": "markdown",
   "metadata": {},
   "source": [
    "### Using log has certain advantages\n",
    "1. loglikelihood can express a series of multiplication in terms of addition, which is more computationally cheaper. Therefore it only takes more time to calculate multiplication as showed above. \n",
    "2. multiplication of a sequence of numbers that is smaller than 1 will stackoverflow and become zero, therefore needs higher precision like float128, however, it only needs float32 to calculate the equation under the log to a certain amount of precision."
   ]
  },
  {
   "cell_type": "markdown",
   "metadata": {},
   "source": [
    "### 2."
   ]
  },
  {
   "cell_type": "code",
   "execution_count": 2,
   "metadata": {},
   "outputs": [],
   "source": [
    "diabetes = pd.read_csv('HW3_data/4/diabetes_train.csv', header=None)"
   ]
  },
  {
   "cell_type": "code",
   "execution_count": 16,
   "metadata": {},
   "outputs": [],
   "source": [
    "x, y = diabetes.drop(columns=0), diabetes.loc[:, 0][:,np.newaxis]\n",
    "x['bias'] = np.ones((len(x), 1))"
   ]
  },
  {
   "cell_type": "markdown",
   "metadata": {},
   "source": [
    "## formulas\n",
    "\n",
    "loss:\\\n",
    "\\begin{equation}\n",
    "E = \\sum_{i=1}^{n}\\log{(  1 + \\exp \\{-y^{i} (\\theta \\cdot x^{i} + \\theta_0) \\}    )} \\\n",
    "\\end{equation}\n",
    "\n",
    "derivative of loss: \\\n",
    "\\begin{equation}\n",
    "\\frac{\\partial{E^{(t)}}}{\\partial{\\theta}} =  \\frac{-y^{(t)} x^{(t)}}{1 + exp(y^{(t)} (\\theta x^{(t)}) )}  \\\n",
    "\\end{equation}\n",
    "\n",
    "loglikelihood = -E"
   ]
  },
  {
   "cell_type": "code",
   "execution_count": 86,
   "metadata": {},
   "outputs": [],
   "source": [
    "def backward(theta, x, y):\n",
    "    # x (dim,)\n",
    "    # y scalar\n",
    "    gradient = - (y * x) / (1 + np.exp(y * (x.dot(theta) ) ) ) \n",
    "    gradient = gradient[:,np.newaxis]\n",
    "    return gradient\n",
    "\n",
    "def SGD(x, y, theta, lr=0.1):\n",
    "    p = np.random.permutation(len(y))\n",
    "    x, y = x.loc[p, :], y[p]\n",
    "    for xi, yi in zip(x.values, y):\n",
    "        gradient = backward(theta, xi, yi)\n",
    "        theta -= lr*gradient\n",
    "    return theta\n",
    "\n",
    "def loss_func(x, y, theta, epoch):\n",
    "    # x (n, dim)\n",
    "    # y (n, 1)\n",
    "    loss = np.mean(np.log( 1 + np.exp( np.multiply(-y, (x.values.dot(theta))))) )\n",
    "    print(f'epoch {epoch} \\t loss {loss}, \\t accuracy is {np.sum(np.sign(x.values.dot(theta)) == y)/ len(y)}')\n",
    "    return loss"
   ]
  },
  {
   "cell_type": "code",
   "execution_count": 87,
   "metadata": {},
   "outputs": [
    {
     "data": {
      "application/vnd.jupyter.widget-view+json": {
       "model_id": "18f10b2856064fea9e82f8aa3b32a532",
       "version_major": 2,
       "version_minor": 0
      },
      "text/plain": [
       "HBox(children=(IntProgress(value=0, max=10000), HTML(value='')))"
      ]
     },
     "metadata": {},
     "output_type": "display_data"
    },
    {
     "name": "stdout",
     "output_type": "stream",
     "text": [
      "epoch 0 \t loss 0.22424183521874158, \t accuracy is 0.9356666666666666\n",
      "epoch 100 \t loss 0.014761623415482835, \t accuracy is 0.9986666666666667\n",
      "epoch 200 \t loss 0.012111853320110944, \t accuracy is 0.9976666666666667\n",
      "epoch 300 \t loss 0.010124720225913328, \t accuracy is 0.9983333333333333\n",
      "epoch 400 \t loss 0.008703752531464047, \t accuracy is 0.9996666666666667\n",
      "epoch 500 \t loss 0.008270980601047662, \t accuracy is 0.9996666666666667\n",
      "epoch 600 \t loss 0.007948551094860031, \t accuracy is 0.9983333333333333\n",
      "epoch 700 \t loss 0.006958411690223807, \t accuracy is 0.9993333333333333\n",
      "epoch 800 \t loss 0.006525542073253271, \t accuracy is 1.0\n",
      "epoch 900 \t loss 0.006126002047713899, \t accuracy is 1.0\n",
      "epoch 1000 \t loss 0.0058412673519075186, \t accuracy is 1.0\n",
      "epoch 1100 \t loss 0.005593978816039055, \t accuracy is 1.0\n",
      "epoch 1200 \t loss 0.005374554318872472, \t accuracy is 1.0\n",
      "epoch 1300 \t loss 0.005225690517720888, \t accuracy is 1.0\n",
      "epoch 1400 \t loss 0.0050508446627849, \t accuracy is 1.0\n",
      "epoch 1500 \t loss 0.004869285760506463, \t accuracy is 1.0\n",
      "epoch 1600 \t loss 0.004708346824406036, \t accuracy is 1.0\n",
      "epoch 1700 \t loss 0.004567669550731825, \t accuracy is 1.0\n",
      "epoch 1800 \t loss 0.004485348411101705, \t accuracy is 1.0\n",
      "epoch 1900 \t loss 0.004328536103642741, \t accuracy is 1.0\n",
      "epoch 2000 \t loss 0.004275228388883553, \t accuracy is 1.0\n",
      "epoch 2100 \t loss 0.0041330355171619445, \t accuracy is 1.0\n",
      "epoch 2200 \t loss 0.004092549313256294, \t accuracy is 1.0\n",
      "epoch 2300 \t loss 0.0039562298506813755, \t accuracy is 1.0\n",
      "epoch 2400 \t loss 0.003871029514573084, \t accuracy is 1.0\n",
      "epoch 2500 \t loss 0.0037913728908620273, \t accuracy is 1.0\n",
      "epoch 2600 \t loss 0.003821653336922587, \t accuracy is 1.0\n",
      "epoch 2700 \t loss 0.003684812943944932, \t accuracy is 1.0\n",
      "epoch 2800 \t loss 0.0037472618029406562, \t accuracy is 1.0\n",
      "epoch 2900 \t loss 0.003528616516402073, \t accuracy is 1.0\n",
      "epoch 3000 \t loss 0.0035690976114474238, \t accuracy is 1.0\n",
      "epoch 3100 \t loss 0.003442981962472942, \t accuracy is 1.0\n",
      "epoch 3200 \t loss 0.0033736401480398727, \t accuracy is 1.0\n",
      "epoch 3300 \t loss 0.003317679611192703, \t accuracy is 1.0\n",
      "epoch 3400 \t loss 0.0032672755896274333, \t accuracy is 1.0\n",
      "epoch 3500 \t loss 0.0032094950586838613, \t accuracy is 1.0\n",
      "epoch 3600 \t loss 0.003164982061999034, \t accuracy is 1.0\n",
      "epoch 3700 \t loss 0.0031512616123070217, \t accuracy is 1.0\n",
      "epoch 3800 \t loss 0.0030807724531533836, \t accuracy is 1.0\n",
      "epoch 3900 \t loss 0.0030565798318783464, \t accuracy is 1.0\n",
      "epoch 4000 \t loss 0.002999837682282255, \t accuracy is 1.0\n",
      "epoch 4100 \t loss 0.0030587837856186355, \t accuracy is 1.0\n",
      "epoch 4200 \t loss 0.0029354459650644646, \t accuracy is 1.0\n",
      "epoch 4300 \t loss 0.0029125316486890334, \t accuracy is 1.0\n",
      "epoch 4400 \t loss 0.00288877466970553, \t accuracy is 1.0\n",
      "epoch 4500 \t loss 0.002830205834538726, \t accuracy is 1.0\n",
      "epoch 4600 \t loss 0.0028003810149548397, \t accuracy is 1.0\n",
      "epoch 4700 \t loss 0.002764104752976942, \t accuracy is 1.0\n",
      "epoch 4800 \t loss 0.002870597014113668, \t accuracy is 1.0\n",
      "epoch 4900 \t loss 0.002750636904633829, \t accuracy is 1.0\n",
      "epoch 5000 \t loss 0.0026887316183338943, \t accuracy is 1.0\n",
      "epoch 5100 \t loss 0.002695710682485784, \t accuracy is 1.0\n",
      "epoch 5200 \t loss 0.002623879243710281, \t accuracy is 1.0\n",
      "epoch 5300 \t loss 0.0026058353689982386, \t accuracy is 1.0\n",
      "epoch 5400 \t loss 0.0026372561840874303, \t accuracy is 1.0\n",
      "epoch 5500 \t loss 0.0025753678379592426, \t accuracy is 1.0\n",
      "epoch 5600 \t loss 0.0025302222701247654, \t accuracy is 1.0\n",
      "epoch 5700 \t loss 0.0025003918421673097, \t accuracy is 1.0\n",
      "epoch 5800 \t loss 0.002480096435827171, \t accuracy is 1.0\n",
      "epoch 5900 \t loss 0.0025134036603131345, \t accuracy is 1.0\n",
      "epoch 6000 \t loss 0.002434466271899361, \t accuracy is 1.0\n",
      "epoch 6100 \t loss 0.002413951658974544, \t accuracy is 1.0\n",
      "epoch 6200 \t loss 0.0024209840739165167, \t accuracy is 1.0\n",
      "epoch 6300 \t loss 0.0023907294755423467, \t accuracy is 1.0\n",
      "epoch 6400 \t loss 0.0023619151515384545, \t accuracy is 1.0\n",
      "epoch 6500 \t loss 0.002352686026140898, \t accuracy is 1.0\n",
      "epoch 6600 \t loss 0.0023178265808205594, \t accuracy is 1.0\n",
      "epoch 6700 \t loss 0.0023062014951012377, \t accuracy is 1.0\n",
      "epoch 6800 \t loss 0.0023240994088670826, \t accuracy is 1.0\n",
      "epoch 6900 \t loss 0.002276499358568774, \t accuracy is 1.0\n",
      "epoch 7000 \t loss 0.0022682512787668015, \t accuracy is 1.0\n",
      "epoch 7100 \t loss 0.0022270710758277583, \t accuracy is 1.0\n",
      "epoch 7200 \t loss 0.0022125927296454085, \t accuracy is 1.0\n",
      "epoch 7300 \t loss 0.002196083417208949, \t accuracy is 1.0\n",
      "epoch 7400 \t loss 0.0021784008323006425, \t accuracy is 1.0\n",
      "epoch 7500 \t loss 0.0022091684390285176, \t accuracy is 1.0\n",
      "epoch 7600 \t loss 0.002148889838157114, \t accuracy is 1.0\n",
      "epoch 7700 \t loss 0.0021396814832160232, \t accuracy is 1.0\n",
      "epoch 7800 \t loss 0.002125394857247129, \t accuracy is 1.0\n",
      "epoch 7900 \t loss 0.0021095332814907424, \t accuracy is 1.0\n",
      "epoch 8000 \t loss 0.002090876226809599, \t accuracy is 1.0\n",
      "epoch 8100 \t loss 0.0020780931591603854, \t accuracy is 1.0\n",
      "epoch 8200 \t loss 0.002076078122080182, \t accuracy is 1.0\n",
      "epoch 8300 \t loss 0.0020482269417735643, \t accuracy is 1.0\n",
      "epoch 8400 \t loss 0.0020354770913097666, \t accuracy is 1.0\n",
      "epoch 8500 \t loss 0.002036101246994818, \t accuracy is 1.0\n",
      "epoch 8600 \t loss 0.0020360907587568767, \t accuracy is 1.0\n",
      "epoch 8700 \t loss 0.0019997912462274454, \t accuracy is 1.0\n",
      "epoch 8800 \t loss 0.0019962398878239575, \t accuracy is 1.0\n",
      "epoch 8900 \t loss 0.001972752336958787, \t accuracy is 1.0\n",
      "epoch 9000 \t loss 0.0019626309682399543, \t accuracy is 1.0\n",
      "epoch 9100 \t loss 0.00195947870148912, \t accuracy is 1.0\n",
      "epoch 9200 \t loss 0.0019422648481122722, \t accuracy is 1.0\n",
      "epoch 9300 \t loss 0.0019275202213850351, \t accuracy is 1.0\n",
      "epoch 9400 \t loss 0.001923781719912876, \t accuracy is 1.0\n",
      "epoch 9500 \t loss 0.0019242991851045627, \t accuracy is 1.0\n",
      "epoch 9600 \t loss 0.0018932809163870851, \t accuracy is 1.0\n",
      "epoch 9700 \t loss 0.0018871039622432076, \t accuracy is 1.0\n",
      "epoch 9800 \t loss 0.0018941923145789233, \t accuracy is 1.0\n",
      "epoch 9900 \t loss 0.0018741682784809341, \t accuracy is 1.0\n"
     ]
    }
   ],
   "source": [
    "losses = []\n",
    "lr = 0.1\n",
    "theta = np.random.normal(x.shape[1], 1)\n",
    "epochs = range(10_000)\n",
    "weights = {}\n",
    "from time import sleep\n",
    "\n",
    "\n",
    "for epoch in tqdm_notebook(epochs, file=sys.stdout):\n",
    "    theta = SGD(x, y, theta, lr)\n",
    "    if epoch % 100 == 0: \n",
    "        loss = loss_func(x, y, theta, epoch)\n",
    "        weights[epoch] = theta\n",
    "        losses.append(loss)"
   ]
  },
  {
   "cell_type": "code",
   "execution_count": 88,
   "metadata": {},
   "outputs": [
    {
     "data": {
      "text/plain": [
       "Text(0.5, 0, 'epochs')"
      ]
     },
     "execution_count": 88,
     "metadata": {},
     "output_type": "execute_result"
    },
    {
     "data": {
      "image/png": "[encoded data removed]",
      "text/plain": [
       "<Figure size 432x288 with 1 Axes>"
      ]
     },
     "metadata": {
      "needs_background": "light"
     },
     "output_type": "display_data"
    }
   ],
   "source": [
    "plt.plot(range(0, 10000, 100), -1*np.array(losses))\n",
    "plt.ylabel('loglikelihood')\n",
    "plt.xlabel('epochs')"
   ]
  },
  {
   "cell_type": "markdown",
   "metadata": {},
   "source": [
    "#### saving weights"
   ]
  },
  {
   "cell_type": "code",
   "execution_count": 92,
   "metadata": {},
   "outputs": [],
   "source": [
    "import pickle\n",
    "with open('weights.pk', 'wb') as f: pickle.dump(weights, f)"
   ]
  },
  {
   "cell_type": "markdown",
   "metadata": {},
   "source": [
    "References: \n",
    "\n",
    "https://math.stackexchange.com/questions/113842/is-the-product-of-symmetric-positive-semidefinite-matrices-positive-definite\n",
    "\n",
    "https://www.cse.iitk.ac.in/users/rmittal/prev_course/s14/notes/lec11.pdf\n",
    "\n",
    "https://stats.stackexchange.com/questions/48509/proof-of-closeness-of-kernel-functions-under-pointwise-product\n",
    "\n",
    "https://ttic.uchicago.edu/~dmcallester/ttic101-07/lectures/kernels/kernels.pdf\n",
    "\n",
    "https://www.cs.cmu.edu/~aarti/Class/10701_Spring14/KernelTheory.pdf"
   ]
  }
 ],
 "metadata": {
  "kernelspec": {
   "display_name": "Python 3",
   "language": "python",
   "name": "python3"
  },
  "language_info": {
   "codemirror_mode": {
    "name": "ipython",
    "version": 3
   },
   "file_extension": ".py",
   "mimetype": "text/x-python",
   "name": "python",
   "nbconvert_exporter": "python",
   "pygments_lexer": "ipython3",
   "version": "3.7.3"
  }
 },
 "nbformat": 4,
 "nbformat_minor": 2
}
